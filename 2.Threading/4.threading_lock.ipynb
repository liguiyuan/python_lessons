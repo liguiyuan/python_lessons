{
 "cells": [
  {
   "cell_type": "markdown",
   "metadata": {},
   "source": [
    "# 线程所 Lock"
   ]
  },
  {
   "cell_type": "code",
   "execution_count": 1,
   "metadata": {
    "collapsed": true
   },
   "outputs": [],
   "source": [
    "import threading"
   ]
  },
  {
   "cell_type": "code",
   "execution_count": 2,
   "metadata": {
    "collapsed": true
   },
   "outputs": [],
   "source": [
    "# 函数一：全局变量A的值每次加1，循环10次，并打印\n",
    "def job1():\n",
    "    global A\n",
    "    for i in range(10):\n",
    "        A += 1\n",
    "        print('job1', A)"
   ]
  },
  {
   "cell_type": "code",
   "execution_count": 3,
   "metadata": {
    "collapsed": true
   },
   "outputs": [],
   "source": [
    "# 函数二：全局变量A的值每次加10，循环10次，并打印\n",
    "def job2():\n",
    "    global A\n",
    "    for i in range(10):\n",
    "        A += 10\n",
    "        print('job2', A)"
   ]
  },
  {
   "cell_type": "code",
   "execution_count": 4,
   "metadata": {},
   "outputs": [
    {
     "name": "stdout",
     "output_type": "stream",
     "text": [
      "('job1', 1) \n",
      "('job2', 12)('job1', 2)\n",
      "\n",
      "('job2', 22)('job1', 23)\n",
      "\n",
      "('job2', 33)('job1', 54)\n",
      "\n",
      "('job2', 43)('job1', 75)\n",
      "\n",
      "('job2', 53)('job1', 86)\n",
      "\n",
      "('job2', 64)('job1', 97)\n",
      "\n",
      "('job2', 74)('job1', 108)\n",
      "\n",
      "('job2', 85)"
     ]
    }
   ],
   "source": [
    "# 可以看出，打印的结果非常混乱\n",
    "if __name__ =='__main__':\n",
    "    A = 0\n",
    "    t1 = threading.Thread(target=job1)\n",
    "    t2 = threading.Thread(target=job2)\n",
    "    t1.start()\n",
    "    t2.start()\n",
    "    t1.join()\n",
    "    t2.join()"
   ]
  },
  {
   "cell_type": "markdown",
   "metadata": {},
   "source": [
    "# 使用 Lock 的情况"
   ]
  },
  {
   "cell_type": "code",
   "execution_count": 5,
   "metadata": {},
   "outputs": [
    {
     "name": "stdout",
     "output_type": "stream",
     "text": [
      "('job1', 109)\n",
      "\n",
      "('job2', 96)('job1', 110)\n",
      "\n",
      "('job2', 107)\n"
     ]
    }
   ],
   "source": [
    "# 执行lock.acquire()将共享内存上锁， 确保当前线程执行时，内存不会被其他线程访问，执行运算完毕后，\n",
    "# 使用lock.release()将锁打开， 保证其他的线程可以使用该共享内存。\n",
    "def job1():\n",
    "    global A, lock\n",
    "    lock.acquire()\n",
    "    for i in range(10):\n",
    "        A += 1\n",
    "        print('job1', A)\n",
    "    lock.release()\n",
    "    \n",
    "def job2():\n",
    "    global A, lock\n",
    "    lock.acquire()\n",
    "    for i in range(10):\n",
    "        A += 10\n",
    "        print('job2', A)\n",
    "    lock.release()"
   ]
  },
  {
   "cell_type": "code",
   "execution_count": 6,
   "metadata": {},
   "outputs": [
    {
     "name": "stdout",
     "output_type": "stream",
     "text": [
      "('job1', 1)\n",
      "('job1', 2)\n",
      "('job1', 3)\n",
      "('job1', 4)\n",
      "('job1', 5)\n",
      "('job2', 20)('job1', 6)\n",
      "\n",
      "('job2', 30)('job1', 7)\n",
      "\n",
      "('job2', 40)('job1', 8)\n",
      "\n",
      "('job2', 50)('job1', 9)\n",
      "\n",
      "('job2', 60)('job1', 10)\n",
      "\n",
      "('job2', 70)\n",
      "('job2', 80)\n",
      "('job2', 90)\n",
      "('job2', 100)\n",
      "('job2', 110)\n"
     ]
    }
   ],
   "source": [
    "if __name__=='__main__':\n",
    "    lock = threading.Lock()\n",
    "    A = 0\n",
    "    t1 = threading.Thread(target=job1)\n",
    "    t2 = threading.Thread(target=job2)\n",
    "    t1.start()\n",
    "    t2.start()\n",
    "    t1.join()\n",
    "    t2.join()"
   ]
  },
  {
   "cell_type": "code",
   "execution_count": null,
   "metadata": {
    "collapsed": true
   },
   "outputs": [],
   "source": []
  }
 ],
 "metadata": {
  "kernelspec": {
   "display_name": "Python 2",
   "language": "python",
   "name": "python2"
  },
  "language_info": {
   "codemirror_mode": {
    "name": "ipython",
    "version": 2
   },
   "file_extension": ".py",
   "mimetype": "text/x-python",
   "name": "python",
   "nbconvert_exporter": "python",
   "pygments_lexer": "ipython2",
   "version": "2.7.12"
  }
 },
 "nbformat": 4,
 "nbformat_minor": 2
}
