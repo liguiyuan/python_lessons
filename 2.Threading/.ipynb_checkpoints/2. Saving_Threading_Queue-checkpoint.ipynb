{
 "cells": [
  {
   "cell_type": "markdown",
   "metadata": {},
   "source": [
    "# 存储进程结果Queue"
   ]
  },
  {
   "cell_type": "code",
   "execution_count": 1,
   "metadata": {},
   "outputs": [
    {
     "name": "stdout",
     "output_type": "stream",
     "text": [
      "[[1, 4, 9], [9, 16, 25], [16, 16, 16], [25, 25, 25]]\n"
     ]
    }
   ],
   "source": [
    "import threading\n",
    "import time\n",
    "import Queue\n",
    "# from queue import Queue # python3.x\n",
    "\n",
    "# 定义一个被多线程调用的函数\n",
    "# 函数的参数是一个列表l和一个队列q，函数的功能是，对列表的每个元素进行平方计算，将结果保存在队列中\n",
    "def job(l,q):\n",
    "    for i in range(len(l)):\n",
    "        l[i] = l[i]**2\n",
    "    q.put(l)\n",
    "    \n",
    "# 定义一个被多线程调用的函数\n",
    "# 在多线程函数中定义一个Queue，用来保存返回值，代替return，\n",
    "# 定义一个多线程列表，初始化一个多维数据列表\n",
    "def multithreading():\n",
    "    q = Queue.Queue(10) # q中存放返回值，代替return的返回值\n",
    "    threads = []\n",
    "    data = [[1, 2, 3], [3, 4, 5], [4, 4, 4], [5, 5, 5]]\n",
    "    # 在多线程函数中定义四个线程，启动线程，将每个线程添加到多线程的列表中\n",
    "    for i in range(4):\n",
    "        t = threading.Thread(target=job, args=(data[i], q)) # Thread首字母要大写，被调用的job函数没有括号，只是一个索引，参数在后面\n",
    "        t.start() # 开始线程\n",
    "        threads.append(t) # 把每个线程append到线程列表中\n",
    "        \n",
    "    # 分别join四个线程到主线程\n",
    "    for thread in threads:\n",
    "        thread.join()\n",
    "    # 定义一个空的列表results，将四个线运行后保存在队列中的结果返回给空列表results\n",
    "    results = []\n",
    "    for _ in range(4):\n",
    "        results.append(q.get()) # q.get()按顺序从q中拿出数据，队列是先进先出(FIFO)\n",
    "    print(results)\n",
    "    \n",
    "\n",
    "if __name__=='__main__':\n",
    "    multithreading()"
   ]
  },
  {
   "cell_type": "code",
   "execution_count": null,
   "metadata": {
    "collapsed": true
   },
   "outputs": [],
   "source": []
  }
 ],
 "metadata": {
  "kernelspec": {
   "display_name": "Python 2",
   "language": "python",
   "name": "python2"
  },
  "language_info": {
   "codemirror_mode": {
    "name": "ipython",
    "version": 2
   },
   "file_extension": ".py",
   "mimetype": "text/x-python",
   "name": "python",
   "nbconvert_exporter": "python",
   "pygments_lexer": "ipython2",
   "version": "2.7.12"
  }
 },
 "nbformat": 4,
 "nbformat_minor": 2
}
