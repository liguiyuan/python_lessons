{
 "cells": [
  {
   "cell_type": "markdown",
   "metadata": {},
   "source": [
    "# 多线程 Threading"
   ]
  },
  {
   "cell_type": "markdown",
   "metadata": {},
   "source": [
    "# 添加线程"
   ]
  },
  {
   "cell_type": "code",
   "execution_count": 1,
   "metadata": {},
   "outputs": [
    {
     "data": {
      "text/plain": [
       "5"
      ]
     },
     "execution_count": 1,
     "metadata": {},
     "output_type": "execute_result"
    }
   ],
   "source": [
    "import threading # 导入模块\n",
    "threading.active_count() # 获取已激活的线程数"
   ]
  },
  {
   "cell_type": "code",
   "execution_count": 2,
   "metadata": {},
   "outputs": [
    {
     "data": {
      "text/plain": [
       "[<_MainThread(MainThread, started 139982306436864)>,\n",
       " <Thread(Thread-2, started daemon 139982172833536)>,\n",
       " <HistorySavingThread(IPythonHistorySavingThread, started 139982139000576)>,\n",
       " <ParentPollerUnix(Thread-1, started daemon 139982129559296)>,\n",
       " <Heartbeat(Thread-3, started daemon 139982164440832)>]"
      ]
     },
     "execution_count": 2,
     "metadata": {},
     "output_type": "execute_result"
    }
   ],
   "source": [
    "threading.enumerate() # 查看所有线程信息"
   ]
  },
  {
   "cell_type": "code",
   "execution_count": 3,
   "metadata": {},
   "outputs": [
    {
     "data": {
      "text/plain": [
       "<_MainThread(MainThread, started 139982306436864)>"
      ]
     },
     "execution_count": 3,
     "metadata": {},
     "output_type": "execute_result"
    }
   ],
   "source": [
    "# 查看现在正在运行的线程\n",
    "threading.current_thread()"
   ]
  },
  {
   "cell_type": "code",
   "execution_count": 4,
   "metadata": {},
   "outputs": [
    {
     "name": "stdout",
     "output_type": "stream",
     "text": [
      "This is a thread of <function currentThread at 0x7f502a281ed8>\n"
     ]
    }
   ],
   "source": [
    "# 添加线程\n",
    "def thread_job():\n",
    "    print('This is a thread of %s' % threading.current_thread)\n",
    "    \n",
    "def main():\n",
    "    thread = threading.Thread(target=thread_job,) # 定义线程\n",
    "    thread.start() # 让线程开始工作\n",
    "    \n",
    "if __name__ == '__main__':\n",
    "    main()"
   ]
  },
  {
   "cell_type": "markdown",
   "metadata": {
    "collapsed": true
   },
   "source": [
    "# join功能"
   ]
  },
  {
   "cell_type": "code",
   "execution_count": 3,
   "metadata": {},
   "outputs": [
    {
     "name": "stdout",
     "output_type": "stream",
     "text": [
      "T1 start\n",
      "all done\n",
      "\n",
      "\n"
     ]
    },
    {
     "data": {
      "text/plain": [
       "'\\n\\xe9\\xa2\\x84\\xe6\\x83\\xb3\\xe4\\xb8\\xad\\xe8\\xbe\\x93\\xe5\\x87\\xba\\xe7\\x9a\\x84\\xe7\\xbb\\x93\\xe6\\x9e\\x9c\\xe6\\x98\\xaf\\xe5\\x90\\xa6\\xe4\\xb8\\xba\\xef\\xbc\\x9a\\nT1 start\\nT1 finish\\nall done\\n\\n\\xe4\\xbd\\x86\\xe5\\xae\\x9e\\xe9\\x99\\x85\\xe5\\x8d\\xb4\\xe6\\x98\\xaf:\\nT1 start\\nall done\\nT1 finish\\n'"
      ]
     },
     "execution_count": 3,
     "metadata": {},
     "output_type": "execute_result"
    },
    {
     "name": "stdout",
     "output_type": "stream",
     "text": [
      "T1 finish\n",
      "\n"
     ]
    }
   ],
   "source": [
    "# 不加 join() 的结果\n",
    "# 我们让 T1 线程工作的耗时增加\n",
    "import threading\n",
    "import time\n",
    "\n",
    "def thread_job():\n",
    "    print(\"T1 start\\n\")\n",
    "    for i in range(10):\n",
    "        time.sleep(0.1) # 任务间隔0.1s\n",
    "    print(\"T1 finish\\n\")\n",
    "    \n",
    "added_thread = threading.Thread(target=thread_job, name='T1')\n",
    "added_thread.start()\n",
    "print(\"all done\\n\")\n",
    "\n",
    "'''\n",
    "预想中输出的结果是否为：\n",
    "T1 start\n",
    "T1 finish\n",
    "all done\n",
    "\n",
    "但实际却是:\n",
    "T1 start\n",
    "all done\n",
    "T1 finish\n",
    "'''"
   ]
  },
  {
   "cell_type": "code",
   "execution_count": 6,
   "metadata": {},
   "outputs": [
    {
     "name": "stdout",
     "output_type": "stream",
     "text": [
      "T1 start\n",
      "\n",
      "T1 finish\n",
      "\n",
      "all done\n",
      "\n"
     ]
    }
   ],
   "source": [
    "# 加入 join() 的结果\n",
    "added_thread = threading.Thread(target=thread_job, name='T1')\n",
    "added_thread.start()\n",
    "added_thread.join()\n",
    "print(\"all done\\n\")"
   ]
  },
  {
   "cell_type": "code",
   "execution_count": 7,
   "metadata": {},
   "outputs": [
    {
     "name": "stdout",
     "output_type": "stream",
     "text": [
      "T1 start\n",
      "T2 start\n",
      "all done\n",
      "\n",
      "\n",
      "\n",
      "T2 finish\n",
      "\n",
      "T1 finish\n",
      "\n"
     ]
    }
   ],
   "source": [
    "# 使用join对控制多个线程的执行顺序非常关键。举个例子，\n",
    "# 假设我们现在再加一个线程T2，T2的任务量较小，会比T1更快完成：\n",
    "def T1_job():\n",
    "    print(\"T1 start\\n\")\n",
    "    for i in range(10):\n",
    "        time.sleep(0.1)\n",
    "    print(\"T1 finish\\n\")\n",
    "    \n",
    "def T2_job():\n",
    "    print(\"T2 start\\n\")\n",
    "    print(\"T2 finish\\n\")\n",
    "    \n",
    "thread_1 = threading.Thread(target=T1_job, name='T1')\n",
    "thread_2 = threading.Thread(target=T2_job, name='T2')\n",
    "thread_1.start() # 开启T1\n",
    "thread_2.start() # 开启T2\n",
    "print(\"all done\\n\")"
   ]
  },
  {
   "cell_type": "code",
   "execution_count": 10,
   "metadata": {},
   "outputs": [
    {
     "name": "stdout",
     "output_type": "stream",
     "text": [
      "T1 start\n",
      "\n",
      "T1 finish\n",
      "\n",
      "all done\n",
      "T2 start\n",
      "\n",
      "\n",
      "T2 finish\n",
      "\n"
     ]
    }
   ],
   "source": [
    "# 还是有错乱\n",
    "thread_1 = threading.Thread(target=T1_job, name='T1')\n",
    "thread_2 = threading.Thread(target=T2_job, name='T2')\n",
    "thread_1.start() # 开启T1\n",
    "thread_1.join()  # notice the difference!\n",
    "thread_2.start() # 开启T2\n",
    "print(\"all done\\n\")"
   ]
  },
  {
   "cell_type": "code",
   "execution_count": 11,
   "metadata": {},
   "outputs": [
    {
     "name": "stdout",
     "output_type": "stream",
     "text": [
      "T1 start\n",
      "T2 start\n",
      "\n",
      "T2 finish\n",
      "\n",
      "\n",
      "T1 finish\n",
      "\n",
      "all done\n",
      "\n"
     ]
    }
   ],
   "source": [
    "# 还是有错乱\n",
    "thread_1 = threading.Thread(target=T1_job, name='T1')\n",
    "thread_2 = threading.Thread(target=T2_job, name='T2')\n",
    "thread_1.start() # 开启T1\n",
    "thread_2.start() # 开启T2\n",
    "thread_1.join()  # notice the difference!\n",
    "print(\"all done\\n\")"
   ]
  },
  {
   "cell_type": "code",
   "execution_count": 12,
   "metadata": {},
   "outputs": [
    {
     "name": "stdout",
     "output_type": "stream",
     "text": [
      "T1 start\n",
      "T2 start\n",
      "\n",
      "\n",
      "T2 finish\n",
      "\n",
      "T1 finish\n",
      "\n",
      "all done\n",
      "\n"
     ]
    }
   ],
   "source": [
    "thread_1 = threading.Thread(target=T1_job, name='T1')\n",
    "thread_2 = threading.Thread(target=T2_job, name='T2')\n",
    "thread_1.start() # 开启T1\n",
    "thread_2.start() # 开启T2\n",
    "thread_2.join()  #  join for T2\n",
    "thread_1.join()  #  join for T1\n",
    "print(\"all done\\n\")"
   ]
  },
  {
   "cell_type": "code",
   "execution_count": null,
   "metadata": {
    "collapsed": true
   },
   "outputs": [],
   "source": []
  }
 ],
 "metadata": {
  "kernelspec": {
   "display_name": "Python 2",
   "language": "python",
   "name": "python2"
  },
  "language_info": {
   "codemirror_mode": {
    "name": "ipython",
    "version": 2
   },
   "file_extension": ".py",
   "mimetype": "text/x-python",
   "name": "python",
   "nbconvert_exporter": "python",
   "pygments_lexer": "ipython2",
   "version": "2.7.12"
  }
 },
 "nbformat": 4,
 "nbformat_minor": 2
}
