{
 "cells": [
  {
   "cell_type": "markdown",
   "metadata": {},
   "source": [
    "# input"
   ]
  },
  {
   "cell_type": "code",
   "execution_count": 1,
   "metadata": {},
   "outputs": [
    {
     "name": "stdout",
     "output_type": "stream",
     "text": [
      "please input a number:22\n",
      "('this number is:', 22)\n"
     ]
    }
   ],
   "source": [
    "a_input = input('please input a number:')\n",
    "print('this number is:', a_input)"
   ]
  },
  {
   "cell_type": "code",
   "execution_count": 2,
   "metadata": {},
   "outputs": [
    {
     "name": "stdout",
     "output_type": "stream",
     "text": [
      "please input a number:1\n",
      "this is a good one\n"
     ]
    }
   ],
   "source": [
    "a_input = input('please input a number:') # 注意这里要定义一个整数型\n",
    "if a_input == 1:\n",
    "    print('this is a good one')\n",
    "elif a_input == 2:\n",
    "    print('see you next time')\n",
    "else:\n",
    "    print('good luck')"
   ]
  },
  {
   "cell_type": "markdown",
   "metadata": {},
   "source": [
    "# input 扩展"
   ]
  },
  {
   "cell_type": "code",
   "execution_count": 3,
   "metadata": {},
   "outputs": [
    {
     "name": "stdout",
     "output_type": "stream",
     "text": [
      "Please input your score:\n",
      "99\n",
      "Cougradulation, you get an A\n"
     ]
    }
   ],
   "source": [
    "score = int(input('Please input your score:\\n'))\n",
    "if score >= 90:\n",
    "    print('Cougradulation, you get an A')\n",
    "elif score >= 80:\n",
    "    print('You get a B')\n",
    "elif score >= 70:\n",
    "    print('You get a C')\n",
    "elif score >= 60:\n",
    "    print('You get a D')\n",
    "else:\n",
    "    print('Sorry, you are failed')"
   ]
  },
  {
   "cell_type": "code",
   "execution_count": null,
   "metadata": {
    "collapsed": true
   },
   "outputs": [],
   "source": []
  },
  {
   "cell_type": "code",
   "execution_count": null,
   "metadata": {
    "collapsed": true
   },
   "outputs": [],
   "source": []
  }
 ],
 "metadata": {
  "kernelspec": {
   "display_name": "Python 2",
   "language": "python",
   "name": "python2"
  },
  "language_info": {
   "codemirror_mode": {
    "name": "ipython",
    "version": 3
   },
   "file_extension": ".py",
   "mimetype": "text/x-python",
   "name": "python",
   "nbconvert_exporter": "python",
   "pygments_lexer": "ipython3",
   "version": "3.6.7"
  }
 },
 "nbformat": 4,
 "nbformat_minor": 2
}
