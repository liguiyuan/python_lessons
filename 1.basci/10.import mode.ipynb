{
 "cells": [
  {
   "cell_type": "markdown",
   "metadata": {},
   "source": [
    "# import 的各种方法"
   ]
  },
  {
   "cell_type": "code",
   "execution_count": 1,
   "metadata": {},
   "outputs": [
    {
     "name": "stdout",
     "output_type": "stream",
     "text": [
      "time.struct_time(tm_year=2018, tm_mon=7, tm_mday=16, tm_hour=23, tm_min=29, tm_sec=19, tm_wday=0, tm_yday=197, tm_isdst=0)\n"
     ]
    }
   ],
   "source": [
    "# 这个模块可以python自带，也可以是自己安装的，比如以后会用到numpy这些模块,需要自己安装\n",
    "import time\n",
    "print(time.localtime())"
   ]
  },
  {
   "cell_type": "code",
   "execution_count": 2,
   "metadata": {},
   "outputs": [
    {
     "name": "stdout",
     "output_type": "stream",
     "text": [
      "time.struct_time(tm_year=2018, tm_mon=7, tm_mday=16, tm_hour=23, tm_min=29, tm_sec=19, tm_wday=0, tm_yday=197, tm_isdst=0)\n"
     ]
    }
   ],
   "source": [
    "# 方法二：import time as __,__下划线缩写部分可以自己定义，在代码中把time 定义成 t\n",
    "import time as t\n",
    "print(t.localtime()) # 需要加t.前缀来引出功能"
   ]
  },
  {
   "cell_type": "code",
   "execution_count": 3,
   "metadata": {},
   "outputs": [
    {
     "name": "stdout",
     "output_type": "stream",
     "text": [
      "time.struct_time(tm_year=2018, tm_mon=7, tm_mday=16, tm_hour=23, tm_min=29, tm_sec=19, tm_wday=0, tm_yday=197, tm_isdst=0)\n",
      "1531754959.31\n"
     ]
    }
   ],
   "source": [
    "# 方法三：from time import time,localtime ,只import自己想要的功能\n",
    "from time import time, localtime\n",
    "print(localtime())\n",
    "print(time())"
   ]
  },
  {
   "cell_type": "code",
   "execution_count": 4,
   "metadata": {},
   "outputs": [
    {
     "name": "stdout",
     "output_type": "stream",
     "text": [
      "time.struct_time(tm_year=2018, tm_mon=7, tm_mday=16, tm_hour=23, tm_min=29, tm_sec=19, tm_wday=0, tm_yday=197, tm_isdst=0)\n"
     ]
    }
   ],
   "source": [
    "# 方法四：from time import * 输入模块的所有功能\n",
    "from time import *\n",
    "print(localtime())"
   ]
  },
  {
   "cell_type": "markdown",
   "metadata": {},
   "source": []
  },
  {
   "cell_type": "code",
   "execution_count": 5,
   "metadata": {},
   "outputs": [
    {
     "name": "stdout",
     "output_type": "stream",
     "text": [
      "Please enter what is your initial balance: \n",
      "50000\n",
      "Please input what is the interest rate (as a number): \n",
      "2.3\n",
      "('Your new balance after year:', 1, 'is', 52326.45)\n",
      "('Your new balance after year:', 2, 'is', 53529.95834999999)\n",
      "('Your new balance after year:', 3, 'is', 54761.14739204999)\n",
      "('Your new balance after year:', 4, 'is', 56020.653782067144)\n",
      "('Your new balance after year:', 5, 'is', 57309.12881905469)\n",
      "('your final year is', 57309.12881905469)\n"
     ]
    }
   ],
   "source": [
    "import balance"
   ]
  },
  {
   "cell_type": "code",
   "execution_count": null,
   "metadata": {
    "collapsed": true
   },
   "outputs": [],
   "source": []
  }
 ],
 "metadata": {
  "kernelspec": {
   "display_name": "Python 2",
   "language": "python",
   "name": "python2"
  },
  "language_info": {
   "codemirror_mode": {
    "name": "ipython",
    "version": 3
   },
   "file_extension": ".py",
   "mimetype": "text/x-python",
   "name": "python",
   "nbconvert_exporter": "python",
   "pygments_lexer": "ipython3",
   "version": "3.6.7"
  }
 },
 "nbformat": 4,
 "nbformat_minor": 2
}
