{
 "cells": [
  {
   "cell_type": "markdown",
   "metadata": {},
   "source": [
    "# threading 什么是多线程"
   ]
  },
  {
   "cell_type": "code",
   "execution_count": 1,
   "metadata": {
    "collapsed": true
   },
   "outputs": [],
   "source": [
    "# 多线程 Threading 是一种让程序拥有分身效果. 能同时处理多件事情. \n",
    "# 一般的程序只能从上到下一行行执行代码, 不过 多线程 (Threading) \n",
    "# 就能打破这种限制. 让你的程序鲜活起来."
   ]
  },
  {
   "cell_type": "markdown",
   "metadata": {},
   "source": [
    "# multiprocessing 什么是多进程"
   ]
  },
  {
   "cell_type": "code",
   "execution_count": 2,
   "metadata": {
    "collapsed": true
   },
   "outputs": [],
   "source": [
    "# 多进程 Multiprocessing 能让电脑更有效率的分配任务给每一个处理器, \n",
    "# 这种做法解决了多线程的弊端. 也能很好的提升效率"
   ]
  },
  {
   "cell_type": "markdown",
   "metadata": {},
   "source": [
    "# 什么是 tkinter 窗口"
   ]
  },
  {
   "cell_type": "code",
   "execution_count": 3,
   "metadata": {
    "collapsed": true
   },
   "outputs": [],
   "source": [
    "# Tkinter 是使用 python 进行窗口视窗设计的模块. 简单的构造, 多平台, 多系统的兼容性, \n",
    "# 能让它成为让你快速入门定制窗口文件的好助手. 它在 python 窗口视窗模块中是一款简单型的. \n",
    "# 所以用来入门, 熟悉 窗口视窗的使用, 非常有必要"
   ]
  },
  {
   "cell_type": "markdown",
   "metadata": {},
   "source": [
    "# pickle 保存数据"
   ]
  },
  {
   "cell_type": "code",
   "execution_count": 4,
   "metadata": {
    "collapsed": true
   },
   "outputs": [],
   "source": [
    "# pickle 保存\n",
    "# pickle 是一个 python 中, 压缩/保存/提取 文件的模块. 最一般的使用方式非常简单. \n",
    "# 比如下面就是压缩并保存一个字典的方式. 字典和列表都是能被保存的\n",
    "import pickle\n",
    "a_dict = {'da': 111, 2:[23, 1, 4], '23':{1:2, 'd':'sad'}}\n",
    "\n",
    "# pickle a variable to file\n",
    "file = open('pickle_example.pickle', 'wb') # wb 是以写的形式打开\n",
    "pickle.dump(a_dict, file)\n",
    "file.close()"
   ]
  },
  {
   "cell_type": "code",
   "execution_count": 5,
   "metadata": {},
   "outputs": [
    {
     "name": "stdout",
     "output_type": "stream",
     "text": [
      "{2: [23, 1, 4], 'da': 111, '23': {1: 2, 'd': 'sad'}}\n"
     ]
    }
   ],
   "source": [
    "# pickle 提取\n",
    "# 提取的时候相对简单点, 同样我们以读的形式打开那个文件, 然后 load 进一个 python 的变量\n",
    "with open('pickle_example.pickle', 'rw') as file:\n",
    "    a_dict1 = pickle.load(file)\n",
    "    \n",
    "print(a_dict1)"
   ]
  },
  {
   "cell_type": "code",
   "execution_count": null,
   "metadata": {
    "collapsed": true
   },
   "outputs": [],
   "source": []
  }
 ],
 "metadata": {
  "kernelspec": {
   "display_name": "Python 2",
   "language": "python",
   "name": "python2"
  },
  "language_info": {
   "codemirror_mode": {
    "name": "ipython",
    "version": 3
   },
   "file_extension": ".py",
   "mimetype": "text/x-python",
   "name": "python",
   "nbconvert_exporter": "python",
   "pygments_lexer": "ipython3",
   "version": "3.6.7"
  }
 },
 "nbformat": 4,
 "nbformat_minor": 2
}
