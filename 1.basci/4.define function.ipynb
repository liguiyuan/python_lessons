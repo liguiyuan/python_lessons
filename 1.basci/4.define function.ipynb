{
 "cells": [
  {
   "cell_type": "markdown",
   "metadata": {},
   "source": [
    "# def 函数"
   ]
  },
  {
   "cell_type": "code",
   "execution_count": 1,
   "metadata": {
    "collapsed": true
   },
   "outputs": [],
   "source": [
    "def function():\n",
    "    print('This is a function')\n",
    "    a = 1+2\n",
    "    print(a)"
   ]
  },
  {
   "cell_type": "code",
   "execution_count": 2,
   "metadata": {},
   "outputs": [
    {
     "name": "stdout",
     "output_type": "stream",
     "text": [
      "This is a function\n",
      "3\n"
     ]
    }
   ],
   "source": [
    "function()"
   ]
  },
  {
   "cell_type": "markdown",
   "metadata": {},
   "source": [
    "# 函数参数"
   ]
  },
  {
   "cell_type": "code",
   "execution_count": 3,
   "metadata": {},
   "outputs": [],
   "source": [
    "def func(a, b):\n",
    "    c = a + b\n",
    "    print('the c is', c)"
   ]
  },
  {
   "cell_type": "code",
   "execution_count": 4,
   "metadata": {},
   "outputs": [
    {
     "name": "stdout",
     "output_type": "stream",
     "text": [
      "('the c is', 3)\n"
     ]
    }
   ],
   "source": [
    "func(1, 2)"
   ]
  },
  {
   "cell_type": "code",
   "execution_count": 5,
   "metadata": {},
   "outputs": [
    {
     "name": "stdout",
     "output_type": "stream",
     "text": [
      "('the c is', 3)\n"
     ]
    }
   ],
   "source": [
    "# 指定特定参数，不受影响\n",
    "func(b = 2, a = 1)"
   ]
  },
  {
   "cell_type": "markdown",
   "metadata": {},
   "source": [
    "# 函数默认参数"
   ]
  },
  {
   "cell_type": "code",
   "execution_count": 6,
   "metadata": {
    "collapsed": true
   },
   "outputs": [],
   "source": [
    "def sale_car(price, color='red', brand='carmy', is_second_hand=True):\n",
    "    print('price', price,\n",
    "         'color', color,\n",
    "         'brand', brand,\n",
    "         'is_second_hand', is_second_hand)"
   ]
  },
  {
   "cell_type": "code",
   "execution_count": 7,
   "metadata": {},
   "outputs": [
    {
     "name": "stdout",
     "output_type": "stream",
     "text": [
      "('price', 1000, 'color', 'red', 'brand', 'carmy', 'is_second_hand', True)\n"
     ]
    }
   ],
   "source": [
    "sale_car(1000)"
   ]
  },
  {
   "cell_type": "code",
   "execution_count": 8,
   "metadata": {},
   "outputs": [
    {
     "name": "stdout",
     "output_type": "stream",
     "text": [
      "('price', 1000, 'color', 'red', 'brand', 'carmy', 'is_second_hand', True)\n"
     ]
    }
   ],
   "source": [
    "sale_car(1000, 'red', 'carmy', True)"
   ]
  },
  {
   "cell_type": "markdown",
   "metadata": {},
   "source": [
    "# 进阶"
   ]
  },
  {
   "cell_type": "code",
   "execution_count": 9,
   "metadata": {},
   "outputs": [
    {
     "ename": "IndentationError",
     "evalue": "expected an indented block (<ipython-input-9-939e7985ef64>, line 3)",
     "output_type": "error",
     "traceback": [
      "\u001b[0;36m  File \u001b[0;32m\"<ipython-input-9-939e7985ef64>\"\u001b[0;36m, line \u001b[0;32m3\u001b[0m\n\u001b[0;31m    #code_here\u001b[0m\n\u001b[0m              ^\u001b[0m\n\u001b[0;31mIndentationError\u001b[0m\u001b[0;31m:\u001b[0m expected an indented block\n"
     ]
    }
   ],
   "source": [
    "# 自调用\n",
    "if __name__ == '__main__':\n",
    "    #code_here"
   ]
  },
  {
   "cell_type": "code",
   "execution_count": 10,
   "metadata": {
    "collapsed": true
   },
   "outputs": [],
   "source": [
    "# 使用了 * 修饰，表明该参数是一个可变参数，这是一个可迭代的对象\n",
    "def report(name, *grades):\n",
    "    total_grade = 0\n",
    "    for grade in grades:\n",
    "        total_grade += grade\n",
    "    print(name, 'total grade is',total_grade)"
   ]
  },
  {
   "cell_type": "code",
   "execution_count": 11,
   "metadata": {},
   "outputs": [
    {
     "name": "stdout",
     "output_type": "stream",
     "text": [
      "('Mike', 'total grade is', 17)\n"
     ]
    }
   ],
   "source": [
    "report('Mike', 8, 9)"
   ]
  },
  {
   "cell_type": "code",
   "execution_count": 12,
   "metadata": {},
   "outputs": [
    {
     "name": "stdout",
     "output_type": "stream",
     "text": [
      "('Mike', 'total grade is', 27)\n"
     ]
    }
   ],
   "source": [
    "report('Mike', 8, 9, 10)"
   ]
  },
  {
   "cell_type": "code",
   "execution_count": 13,
   "metadata": {
    "collapsed": true
   },
   "outputs": [],
   "source": [
    "#关键字参数\n",
    "def portrait(name, **kw):\n",
    "    print('name is', name)\n",
    "    for k,v in kw.items():\n",
    "        print(k, v)"
   ]
  },
  {
   "cell_type": "code",
   "execution_count": 14,
   "metadata": {},
   "outputs": [
    {
     "name": "stdout",
     "output_type": "stream",
     "text": [
      "('name is', 'Mike')\n",
      "('country', 'Chain')\n",
      "('age', 24)\n",
      "('education', 'bachelor')\n"
     ]
    }
   ],
   "source": [
    "portrait('Mike', age=24, country='Chain', education='bachelor')"
   ]
  },
  {
   "cell_type": "code",
   "execution_count": null,
   "metadata": {
    "collapsed": true
   },
   "outputs": [],
   "source": []
  }
 ],
 "metadata": {
  "kernelspec": {
   "display_name": "Python 2",
   "language": "python",
   "name": "python2"
  },
  "language_info": {
   "codemirror_mode": {
    "name": "ipython",
    "version": 3
   },
   "file_extension": ".py",
   "mimetype": "text/x-python",
   "name": "python",
   "nbconvert_exporter": "python",
   "pygments_lexer": "ipython3",
   "version": "3.6.7"
  }
 },
 "nbformat": 4,
 "nbformat_minor": 2
}
