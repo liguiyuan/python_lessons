{
 "cells": [
  {
   "cell_type": "markdown",
   "metadata": {},
   "source": [
    "# 简单的匹配"
   ]
  },
  {
   "cell_type": "code",
   "execution_count": 1,
   "metadata": {},
   "outputs": [
    {
     "name": "stdout",
     "output_type": "stream",
     "text": [
      "True\n",
      "False\n"
     ]
    }
   ],
   "source": [
    "# 在文字中找到特定的内容\n",
    "pattern1 = \"cat\"\n",
    "pattern2 = \"bird\"\n",
    "string = \"dog runs to cat\"\n",
    "print(pattern1 in string)\n",
    "print(pattern2 in string)"
   ]
  },
  {
   "cell_type": "code",
   "execution_count": 2,
   "metadata": {},
   "outputs": [
    {
     "name": "stdout",
     "output_type": "stream",
     "text": [
      "<_sre.SRE_Match object at 0x7f47fc4b5b90>\n",
      "None\n"
     ]
    }
   ],
   "source": [
    "# 更加高级的内容. 要使用正则表达式, 首先需要调用一个 python 的内置模块 re\n",
    "# re.search() 找到了结果, 它会返回一个 match 的 object. 如果没有匹配到, 它会返回 None\n",
    "import re\n",
    "\n",
    "# regular expression\n",
    "pattern1 = \"cat\"\n",
    "pattern2 = \"bird\"\n",
    "string = \"dog runs to cat\"\n",
    "print(re.search(pattern1, string))\n",
    "print(re.search(pattern2, string))"
   ]
  },
  {
   "cell_type": "markdown",
   "metadata": {},
   "source": [
    "# 灵活匹配"
   ]
  },
  {
   "cell_type": "code",
   "execution_count": 3,
   "metadata": {},
   "outputs": [
    {
     "name": "stdout",
     "output_type": "stream",
     "text": [
      "<_sre.SRE_Match object at 0x7f47fc4b5bf8>\n"
     ]
    }
   ],
   "source": [
    "# 如果需要找到潜在的多个可能性文字, 我们可以使用 [] 将可能的字符囊括进来. 比如 [ab] \n",
    "# 就说明我想要找的字符可以是 a 也可以是 b. 这里我们还需要注意的是, 建立一个正则的规则, \n",
    "# 我们在 pattern 的 “” 前面需要加上一个 r 用来表示这是正则表达式, 而不是普通字符串. \n",
    "# 通过下面这种形式, 如果字符串中出现 “run” 或者是 “ran”, 它都能找到\n",
    "\n",
    "ptn = r\"r[au]n\"\n",
    "print(re.search(ptn,\"dog runs to cat\"))"
   ]
  },
  {
   "cell_type": "code",
   "execution_count": 4,
   "metadata": {},
   "outputs": [
    {
     "name": "stdout",
     "output_type": "stream",
     "text": [
      "None\n",
      "<_sre.SRE_Match object at 0x7f47fc4b5ac0>\n",
      "<_sre.SRE_Match object at 0x7f47fc4b5ac0>\n",
      "<_sre.SRE_Match object at 0x7f47fc4b5ac0>\n"
     ]
    }
   ],
   "source": [
    "print(re.search(r\"r[A-Z]n\", \"dog runs to cat\"))\n",
    "print(re.search(r\"r[a-z]n\", \"dog runs to cat\")) \n",
    "print(re.search(r\"r[0-9]n\", \"dog r2ns to cat\"))\n",
    "print(re.search(r\"r[0-9a-z]n\", \"dog runs to cat\"))"
   ]
  },
  {
   "cell_type": "markdown",
   "metadata": {},
   "source": [
    "# 按类型匹配"
   ]
  },
  {
   "cell_type": "code",
   "execution_count": 5,
   "metadata": {},
   "outputs": [
    {
     "name": "stdout",
     "output_type": "stream",
     "text": [
      "<_sre.SRE_Match object at 0x7f47fc4b5850>\n",
      "<_sre.SRE_Match object at 0x7f47fc4b5850>\n",
      "<_sre.SRE_Match object at 0x7f47fc4b5850>\n",
      "<_sre.SRE_Match object at 0x7f47fc4b5850>\n",
      "<_sre.SRE_Match object at 0x7f47fc4b5850>\n",
      "<_sre.SRE_Match object at 0x7f47fc4b5850>\n",
      "<_sre.SRE_Match object at 0x7f47fc4b5850>\n",
      "<_sre.SRE_Match object at 0x7f47fc4b5850>\n",
      "<_sre.SRE_Match object at 0x7f47fc4b5850>\n",
      "<_sre.SRE_Match object at 0x7f47fc4b5850>\n",
      "<_sre.SRE_Match object at 0x7f47fc4b5850>\n",
      "<_sre.SRE_Match object at 0x7f47fc4b5850>\n",
      "<_sre.SRE_Match object at 0x7f47fc4594e0>\n",
      "<_sre.SRE_Match object at 0x7f47fc4595d0>\n"
     ]
    }
   ],
   "source": [
    "# 除了自己定义规则, 还有很多匹配的规则时提前就给你定义好了的，如下面的一些例子\n",
    "'''\n",
    "\\d : 任何数字\n",
    "\\D : 不是数字\n",
    "\\s : 任何 white space, 如 [\\t\\n\\r\\f\\v]\n",
    "\\S : 不是 white space\n",
    "\\w : 任何大小写字母, 数字和 “” [a-zA-Z0-9]\n",
    "\\W : 不是 \\w\n",
    "\\b : 空白字符 (只在某个字的开头或结尾)\n",
    "\\B : 空白字符 (不在某个字的开头或结尾)\n",
    "\\\\ : 匹配 \\\n",
    ". : 匹配任何字符 (除了 \\n)\n",
    "^ : 匹配开头\n",
    "$ : 匹配结尾\n",
    "? : 前面的字符可有可无\n",
    "'''\n",
    "\n",
    "# \\d : decimal digit\n",
    "print(re.search(r\"r\\dn\", \"run r4n\"))           # <_sre.SRE_Match object; span=(4, 7), match='r4n'>\n",
    "# \\D : any non-decimal digit\n",
    "print(re.search(r\"r\\Dn\", \"run r4n\"))           # <_sre.SRE_Match object; span=(0, 3), match='run'>\n",
    "# \\s : any white space [\\t\\n\\r\\f\\v]\n",
    "print(re.search(r\"r\\sn\", \"r\\nn r4n\"))          # <_sre.SRE_Match object; span=(0, 3), match='r\\nn'>\n",
    "# \\S : opposite to \\s, any non-white space\n",
    "print(re.search(r\"r\\Sn\", \"r\\nn r4n\"))          # <_sre.SRE_Match object; span=(4, 7), match='r4n'>\n",
    "# \\w : [a-zA-Z0-9_]\n",
    "print(re.search(r\"r\\wn\", \"r\\nn r4n\"))          # <_sre.SRE_Match object; span=(4, 7), match='r4n'>\n",
    "# \\W : opposite to \\w\n",
    "print(re.search(r\"r\\Wn\", \"r\\nn r4n\"))          # <_sre.SRE_Match object; span=(0, 3), match='r\\nn'>\n",
    "# \\b : empty string (only at the start or end of the word)\n",
    "print(re.search(r\"\\bruns\\b\", \"dog runs to cat\"))    # <_sre.SRE_Match object; span=(4, 8), match='runs'>\n",
    "# \\B : empty string (but not at the start or end of a word)\n",
    "print(re.search(r\"\\B runs \\B\", \"dog   runs  to cat\"))  # <_sre.SRE_Match object; span=(8, 14), match=' runs '>\n",
    "# \\\\ : match \\\n",
    "print(re.search(r\"runs\\\\\", \"runs\\ to me\"))     # <_sre.SRE_Match object; span=(0, 5), match='runs\\\\'>\n",
    "# . : match anything (except \\n)\n",
    "print(re.search(r\"r.n\", \"r[ns to me\"))         # <_sre.SRE_Match object; span=(0, 3), match='r[n'>\n",
    "# ^ : match line beginning\n",
    "print(re.search(r\"^dog\", \"dog runs to cat\"))   # <_sre.SRE_Match object; span=(0, 3), match='dog'>\n",
    "# $ : match line ending\n",
    "print(re.search(r\"cat$\", \"dog runs to cat\"))   # <_sre.SRE_Match object; span=(12, 15), match='cat'>\n",
    "# ? : may or may not occur\n",
    "print(re.search(r\"Mon(day)?\", \"Monday\"))       # <_sre.SRE_Match object; span=(0, 6), match='Monday'>\n",
    "print(re.search(r\"Mon(day)?\", \"Mon\"))          # <_sre.SRE_Match object; span=(0, 3), match='Mon'>"
   ]
  },
  {
   "cell_type": "code",
   "execution_count": 6,
   "metadata": {},
   "outputs": [
    {
     "name": "stdout",
     "output_type": "stream",
     "text": [
      "None\n",
      "<_sre.SRE_Match object at 0x7f47fc4b58b8>\n"
     ]
    }
   ],
   "source": [
    "string = \"\"\"\n",
    "dog runs to cat.\n",
    "I run to dog\n",
    "\"\"\"\n",
    "print(re.search(r\"^I\", string))                 # None\n",
    "print(re.search(r\"^I\", string, flags=re.M))     # <_sre.SRE_Match object; span=(18, 19), match='I'>"
   ]
  },
  {
   "cell_type": "markdown",
   "metadata": {},
   "source": [
    "# 重复匹配"
   ]
  },
  {
   "cell_type": "code",
   "execution_count": 7,
   "metadata": {},
   "outputs": [
    {
     "name": "stdout",
     "output_type": "stream",
     "text": [
      "<_sre.SRE_Match object at 0x7f47fc4b5718>\n",
      "<_sre.SRE_Match object at 0x7f47fc4b5718>\n",
      "None\n",
      "<_sre.SRE_Match object at 0x7f47fc4b5718>\n",
      "None\n",
      "<_sre.SRE_Match object at 0x7f47fc4b5718>\n"
     ]
    }
   ],
   "source": [
    "# 如果我们想让某个规律被重复使用, 在正则里面也是可以实现的, 而且实现的方式还有很多. 具体可以分为这三种:\n",
    "'''\n",
    "* : 重复零次或多次\n",
    "+ : 重复一次或多次\n",
    "{n, m} : 重复 n 至 m 次\n",
    "{n} : 重复 n 次\n",
    "'''\n",
    "\n",
    "print(re.search(r\"ab*\", \"a\"))\n",
    "print(re.search(r\"ab*\", \"abbbbb\"))\n",
    "\n",
    "# + : occur 1 or more times\n",
    "print(re.search(r\"ab+\", \"a\"))             # None\n",
    "print(re.search(r\"ab+\", \"abbbbb\"))        # <_sre.SRE_Match object; span=(0, 6), match='abbbbb'>\n",
    "\n",
    "# {n, m} : occur n to m times\n",
    "print(re.search(r\"ab{2,10}\", \"a\"))        # None\n",
    "print(re.search(r\"ab{2,10}\", \"abbbbb\"))   # <_sre.SRE_Match object; span=(0, 6), match='abbbbb'>"
   ]
  },
  {
   "cell_type": "markdown",
   "metadata": {},
   "source": [
    "# 分组"
   ]
  },
  {
   "cell_type": "code",
   "execution_count": 8,
   "metadata": {},
   "outputs": [
    {
     "name": "stdout",
     "output_type": "stream",
     "text": [
      "021523, Date: Feb/12/2017\n",
      "021523\n",
      "Feb/12/2017\n"
     ]
    }
   ],
   "source": [
    "match = re.search(r\"(\\d+), Date: (.+)\", \"ID: 021523, Date: Feb/12/2017\")\n",
    "print(match.group())                   # 021523, Date: Feb/12/2017\n",
    "print(match.group(1))                  # 021523\n",
    "print(match.group(2))                  # Date: Feb/12/2017"
   ]
  },
  {
   "cell_type": "code",
   "execution_count": 9,
   "metadata": {},
   "outputs": [
    {
     "name": "stdout",
     "output_type": "stream",
     "text": [
      "021523\n",
      "Feb/12/2017\n"
     ]
    }
   ],
   "source": [
    "match = re.search(r\"(?P<id>\\d+), Date: (?P<date>.+)\", \"ID: 021523, Date: Feb/12/2017\")\n",
    "print(match.group('id'))                # 021523\n",
    "print(match.group('date'))              # Date: Feb/12/2017"
   ]
  },
  {
   "cell_type": "markdown",
   "metadata": {},
   "source": [
    "# findall"
   ]
  },
  {
   "cell_type": "code",
   "execution_count": 10,
   "metadata": {},
   "outputs": [
    {
     "name": "stdout",
     "output_type": "stream",
     "text": [
      "['run', 'ran']\n",
      "['run', 'ran']\n"
     ]
    }
   ],
   "source": [
    "# findall\n",
    "print(re.findall(r\"r[ua]n\", \"run ran ren\"))    # ['run', 'ran']\n",
    "\n",
    "# | : or\n",
    "print(re.findall(r\"(run|ran)\", \"run ran ren\")) # ['run', 'ran']"
   ]
  },
  {
   "cell_type": "markdown",
   "metadata": {},
   "source": [
    "# replace"
   ]
  },
  {
   "cell_type": "code",
   "execution_count": 11,
   "metadata": {},
   "outputs": [
    {
     "name": "stdout",
     "output_type": "stream",
     "text": [
      "dog catches to cat\n"
     ]
    }
   ],
   "source": [
    "print(re.sub(r\"r[au]ns\", \"catches\", \"dog runs to cat\"))     # dog catches to cat"
   ]
  },
  {
   "cell_type": "markdown",
   "metadata": {},
   "source": [
    "# split"
   ]
  },
  {
   "cell_type": "code",
   "execution_count": 12,
   "metadata": {},
   "outputs": [
    {
     "name": "stdout",
     "output_type": "stream",
     "text": [
      "['a', 'b', 'c', 'd', 'e']\n"
     ]
    }
   ],
   "source": [
    "print(re.split(r\"[,;\\.]\", \"a;b,c.d;e\"))             # ['a', 'b', 'c', 'd', 'e']"
   ]
  },
  {
   "cell_type": "markdown",
   "metadata": {},
   "source": [
    "# compile"
   ]
  },
  {
   "cell_type": "code",
   "execution_count": 13,
   "metadata": {},
   "outputs": [
    {
     "name": "stdout",
     "output_type": "stream",
     "text": [
      "<_sre.SRE_Match object at 0x7f47fc4b5370>\n"
     ]
    }
   ],
   "source": [
    "compiled_re = re.compile(r\"r[ua]n\")\n",
    "print(compiled_re.search(\"dog ran to cat\"))  # <_sre.SRE_Match object; span=(4, 7), match='ran'>"
   ]
  },
  {
   "cell_type": "code",
   "execution_count": null,
   "metadata": {
    "collapsed": true
   },
   "outputs": [],
   "source": []
  }
 ],
 "metadata": {
  "kernelspec": {
   "display_name": "Python 2",
   "language": "python",
   "name": "python2"
  },
  "language_info": {
   "codemirror_mode": {
    "name": "ipython",
    "version": 3
   },
   "file_extension": ".py",
   "mimetype": "text/x-python",
   "name": "python",
   "nbconvert_exporter": "python",
   "pygments_lexer": "ipython3",
   "version": "3.6.7"
  }
 },
 "nbformat": 4,
 "nbformat_minor": 2
}
