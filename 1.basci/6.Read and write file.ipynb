{
 "cells": [
  {
   "cell_type": "markdown",
   "metadata": {},
   "source": [
    "# open 读文件"
   ]
  },
  {
   "cell_type": "markdown",
   "metadata": {},
   "source": [
    "# \\n换行符"
   ]
  },
  {
   "cell_type": "code",
   "execution_count": 1,
   "metadata": {},
   "outputs": [
    {
     "name": "stdout",
     "output_type": "stream",
     "text": [
      "This is my first test. This is my second line. This is third\n",
      "This is my first test.\n",
      "This is my second line.\n",
      "This is third\n"
     ]
    }
   ],
   "source": [
    "# 无换行\n",
    "text = 'This is my first test. This is my second line. This is third'\n",
    "print(text)\n",
    "\n",
    "# 有换行\n",
    "text = 'This is my first test.\\nThis is my second line.\\nThis is third'\n",
    "print(text)"
   ]
  },
  {
   "cell_type": "code",
   "execution_count": 2,
   "metadata": {},
   "outputs": [],
   "source": [
    "my_file = open('my_file.txt', 'w')\n",
    "my_file.write(text)\n",
    "my_file.close()"
   ]
  },
  {
   "cell_type": "markdown",
   "metadata": {},
   "source": [
    "# \\t tab 对齐"
   ]
  },
  {
   "cell_type": "code",
   "execution_count": 3,
   "metadata": {},
   "outputs": [
    {
     "name": "stdout",
     "output_type": "stream",
     "text": [
      "\tThis is my first test.\n",
      "\tThis is my second line.\n",
      "\tThis is third\n"
     ]
    }
   ],
   "source": [
    "text = '\\tThis is my first test.\\n\\tThis is my second line.\\n\\tThis is third'\n",
    "print(text)"
   ]
  },
  {
   "cell_type": "markdown",
   "metadata": {},
   "source": [
    "# 给文件增加内容"
   ]
  },
  {
   "cell_type": "code",
   "execution_count": 4,
   "metadata": {
    "collapsed": true
   },
   "outputs": [],
   "source": [
    "append_text = '\\nThis is append file'\n",
    "my_file = open('my_file.txt', 'a')   # 'a'=append 以增加内容的形式打开\n",
    "my_file.write(append_text)\n",
    "my_file.close()"
   ]
  },
  {
   "cell_type": "markdown",
   "metadata": {},
   "source": [
    "# 读取文件内容"
   ]
  },
  {
   "cell_type": "code",
   "execution_count": 5,
   "metadata": {},
   "outputs": [
    {
     "name": "stdout",
     "output_type": "stream",
     "text": [
      "This is my first test.\n",
      "This is my second line.\n",
      "This is third\n",
      "This is append file\n"
     ]
    }
   ],
   "source": [
    "file = open('my_file.txt','r')\n",
    "content = file.read()\n",
    "print(content)"
   ]
  },
  {
   "cell_type": "markdown",
   "metadata": {},
   "source": [
    "# 按行读取 file.readline()"
   ]
  },
  {
   "cell_type": "code",
   "execution_count": 6,
   "metadata": {},
   "outputs": [
    {
     "name": "stdout",
     "output_type": "stream",
     "text": [
      "This is my first test.\n",
      "\n",
      "This is my second line.\n",
      "\n"
     ]
    }
   ],
   "source": [
    "file = open('my_file.txt', 'r')\n",
    "content = file.readline() # 读取第一行\n",
    "print(content)\n",
    "\n",
    "second_line = file.readline() # 读取第二行\n",
    "print(second_line)"
   ]
  },
  {
   "cell_type": "markdown",
   "metadata": {},
   "source": [
    "# 读取所有的行 file.readlines()"
   ]
  },
  {
   "cell_type": "code",
   "execution_count": 7,
   "metadata": {},
   "outputs": [
    {
     "name": "stdout",
     "output_type": "stream",
     "text": [
      "['This is my first test.\\n', 'This is my second line.\\n', 'This is third\\n', 'This is append file']\n"
     ]
    }
   ],
   "source": [
    "file = open('my_file.txt','r')\n",
    "content = file.readlines()  # python_list 形式\n",
    "print(content)"
   ]
  },
  {
   "cell_type": "code",
   "execution_count": null,
   "metadata": {
    "collapsed": true
   },
   "outputs": [],
   "source": []
  }
 ],
 "metadata": {
  "kernelspec": {
   "display_name": "Python 2",
   "language": "python",
   "name": "python2"
  },
  "language_info": {
   "codemirror_mode": {
    "name": "ipython",
    "version": 2
   },
   "file_extension": ".py",
   "mimetype": "text/x-python",
   "name": "python",
   "nbconvert_exporter": "python",
   "pygments_lexer": "ipython2",
   "version": "2.7.12"
  }
 },
 "nbformat": 4,
 "nbformat_minor": 2
}
