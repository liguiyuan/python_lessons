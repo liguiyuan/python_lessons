{
 "cells": [
  {
   "cell_type": "markdown",
   "metadata": {},
   "source": [
    "# lambda\n",
    "\n",
    "lambda：主体是一个表达式，起到一个函数速写作用\n",
    "\n",
    "filter: 简单的理解为过滤器，需要两个参数：function和一个序列（字符串、列表、元组都是序列），过滤器会依次将序列的值传入function中"
   ]
  },
  {
   "cell_type": "code",
   "execution_count": 1,
   "metadata": {},
   "outputs": [
    {
     "name": "stdout",
     "output_type": "stream",
     "text": [
      "[0, 3, 6, 9, 12, 15, 18, 21, 24, 27, 30, 33, 36, 39, 42, 45, 48, 51, 54, 57, 60, 63, 66, 69, 72, 75, 78, 81, 84, 87, 90, 93, 96, 99]\n"
     ]
    }
   ],
   "source": [
    "ret = list(filter(lambda x: True if x % 3 == 0 else False, range(100)))\n",
    "print(ret)"
   ]
  },
  {
   "cell_type": "markdown",
   "metadata": {},
   "source": [
    "# zip\n",
    "\n",
    "就是zip打包，可以将多个序列进行打包，它会将两个序列拆分，然后组和成元组，在合成一个列表。\n",
    "要注意的是，如果一个序列长度不相等，以短的序列进行到最后一个元素，多余的部分会被抛弃"
   ]
  },
  {
   "cell_type": "code",
   "execution_count": 2,
   "metadata": {},
   "outputs": [
    {
     "name": "stdout",
     "output_type": "stream",
     "text": [
      "[('a', 'a'), ('b', 'b'), ('c', 'c'), ('d', 'd'), ('e', 'e')]\n"
     ]
    }
   ],
   "source": [
    "str1 = \"abcde\"\n",
    "str2 = \"abcdefg\"\n",
    "\n",
    "ret = list(zip(str1, str2))\n",
    "print(ret)"
   ]
  },
  {
   "cell_type": "code",
   "execution_count": 3,
   "metadata": {},
   "outputs": [
    {
     "name": "stdout",
     "output_type": "stream",
     "text": [
      "[(1, 4), (2, 5), (3, 6)]\n",
      "[(1, 4), (2, 5), (3, 6)]\n"
     ]
    }
   ],
   "source": [
    "a = [1, 2, 3]\n",
    "b = [4, 5, 6]\n",
    "c = [4, 5, 6, 7 ,8]\n",
    "zipped = list(zip(a, b))\n",
    "print(zipped)\n",
    "\n",
    "ret = list(zip(a, c))\n",
    "print(ret)"
   ]
  },
  {
   "cell_type": "code",
   "execution_count": 4,
   "metadata": {},
   "outputs": [
    {
     "name": "stdout",
     "output_type": "stream",
     "text": [
      "[('a', 'b'), ('b', 'c'), ('c', 'd'), ('d', 'e'), ('e', 'f')]\n",
      "('f', 'f', 'f')\n",
      "('l', 'l', 'l')\n",
      "('o', 'o', 'i')\n",
      "('w', 'w', 'g')\n"
     ]
    }
   ],
   "source": [
    "# 列元素依次相连\n",
    "l = ['a', 'b', 'c', 'd', 'e', 'f']\n",
    "print(list(zip(l[:-1], l[1:])))\n",
    "\n",
    "nums = ['flower', 'flow', 'flight']\n",
    "for i in zip(*nums):\n",
    "    print(i)"
   ]
  },
  {
   "cell_type": "markdown",
   "metadata": {},
   "source": [
    "# map\n",
    "map()会根据提供的函数对指定序列做映射\n",
    "第一个参数 function 以参数序列中的每一个元素调用 function 函数，返回包含每次 function 函数返回值的新列表"
   ]
  },
  {
   "cell_type": "code",
   "execution_count": 5,
   "metadata": {},
   "outputs": [
    {
     "name": "stdout",
     "output_type": "stream",
     "text": [
      "[True, False, False, True, False, False, True, False, False, True, False, False, True, False, False, True, False, False, True, False, False, True, False, False, True, False, False, True, False, False, True, False, False, True, False, False, True, False, False, True, False, False, True, False, False, True, False, False, True, False, False, True, False, False, True, False, False, True, False, False, True, False, False, True, False, False, True, False, False, True, False, False, True, False, False, True, False, False, True, False, False, True, False, False, True, False, False, True, False, False, True, False, False, True, False, False, True, False, False, True]\n"
     ]
    }
   ],
   "source": [
    "ret = list(map(lambda x: True if x % 3 == 0 else False, range(100)))\n",
    "print(ret)"
   ]
  },
  {
   "cell_type": "code",
   "execution_count": 6,
   "metadata": {},
   "outputs": [
    {
     "name": "stdout",
     "output_type": "stream",
     "text": [
      "[1, 4, 9, 16, 25]\n",
      "[1, 4, 9, 16, 25]\n",
      "[3, 7, 11, 15, 19]\n"
     ]
    }
   ],
   "source": [
    "def square(x):      # 计算平方数\n",
    "    return x ** 2\n",
    "\n",
    "ret = list(map(square, [1, 2, 3, 4, 5]))\n",
    "print(ret)\n",
    "\n",
    "ret = list(map(lambda x: x**2, [1, 2, 3, 4, 5]))  # 使用 lambda 匿名函数\n",
    "print(ret)\n",
    "\n",
    "# 提供了两个列表，对相同位置的列表数据进行相加\n",
    "ret = list(map(lambda x, y: x + y, [1, 3, 5, 7, 9], [2, 4, 6, 8, 10]))\n",
    "print(ret)"
   ]
  },
  {
   "cell_type": "code",
   "execution_count": null,
   "metadata": {},
   "outputs": [],
   "source": []
  }
 ],
 "metadata": {
  "kernelspec": {
   "display_name": "Python 3",
   "language": "python",
   "name": "python3"
  },
  "language_info": {
   "codemirror_mode": {
    "name": "ipython",
    "version": 3
   },
   "file_extension": ".py",
   "mimetype": "text/x-python",
   "name": "python",
   "nbconvert_exporter": "python",
   "pygments_lexer": "ipython3",
   "version": "3.6.7"
  }
 },
 "nbformat": 4,
 "nbformat_minor": 2
}
