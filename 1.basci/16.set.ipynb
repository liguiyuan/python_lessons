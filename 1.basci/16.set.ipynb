{
 "cells": [
  {
   "cell_type": "markdown",
   "metadata": {},
   "source": [
    "# set 找不同"
   ]
  },
  {
   "cell_type": "code",
   "execution_count": 1,
   "metadata": {},
   "outputs": [
    {
     "name": "stdout",
     "output_type": "stream",
     "text": [
      "set(['a', 'c', 'b', 'd'])\n"
     ]
    }
   ],
   "source": [
    "# set 基本, set 最主要的功能就是寻找一个句子或者一个 list 当中不同的元素\n",
    "char_list = ['a', 'b', 'c', 'c', 'd', 'd', 'd']\n",
    "sentence = 'Welcome Back to This Tutorial'\n",
    "\n",
    "print(set(char_list))"
   ]
  },
  {
   "cell_type": "code",
   "execution_count": 2,
   "metadata": {},
   "outputs": [
    {
     "name": "stdout",
     "output_type": "stream",
     "text": [
      "set(['a', ' ', 'c', 'B', 'e', 'i', 'h', 'k', 'm', 'l', 'o', 's', 'r', 'u', 't', 'W', 'T'])\n"
     ]
    }
   ],
   "source": [
    "print(set(sentence))"
   ]
  },
  {
   "cell_type": "code",
   "execution_count": 3,
   "metadata": {},
   "outputs": [
    {
     "name": "stdout",
     "output_type": "stream",
     "text": [
      "set(['a', ' ', 'c', 'b', 'e', 'd', 'i', 'h', 'k', 'm', 'l', 'o', 's', 'B', 'u', 't', 'W', 'r', 'T'])\n"
     ]
    }
   ],
   "source": [
    "print(set(char_list + list(sentence)))"
   ]
  },
  {
   "cell_type": "markdown",
   "metadata": {},
   "source": [
    "# 添加元素"
   ]
  },
  {
   "cell_type": "code",
   "execution_count": 4,
   "metadata": {},
   "outputs": [
    {
     "name": "stdout",
     "output_type": "stream",
     "text": [
      "set(['a', 'x', 'c', 'b', 'd'])\n"
     ]
    }
   ],
   "source": [
    "# 定义好一个 set 之后我们还可以对其添加需要的元素, 使用 add 就能添加某个元素. \n",
    "# 但是不是每一个东西都能添加, 比如一个列表\n",
    "unique_char = set(char_list)\n",
    "unique_char.add('x')\n",
    "print(unique_char)"
   ]
  },
  {
   "cell_type": "markdown",
   "metadata": {},
   "source": [
    "# 清除元素或set"
   ]
  },
  {
   "cell_type": "code",
   "execution_count": 5,
   "metadata": {},
   "outputs": [
    {
     "name": "stdout",
     "output_type": "stream",
     "text": [
      "set(['a', 'c', 'b', 'd'])\n"
     ]
    }
   ],
   "source": [
    "# 清除一个元素可以用 remove 或者 discard, 而清除全部可以用 clear\n",
    "unique_char.remove('x')\n",
    "print(unique_char)"
   ]
  },
  {
   "cell_type": "code",
   "execution_count": 6,
   "metadata": {},
   "outputs": [
    {
     "name": "stdout",
     "output_type": "stream",
     "text": [
      "set(['a', 'c', 'b'])\n"
     ]
    }
   ],
   "source": [
    "unique_char.discard('d')\n",
    "print(unique_char)"
   ]
  },
  {
   "cell_type": "code",
   "execution_count": 7,
   "metadata": {},
   "outputs": [
    {
     "name": "stdout",
     "output_type": "stream",
     "text": [
      "set([])\n"
     ]
    }
   ],
   "source": [
    "unique_char.clear()\n",
    "print(unique_char)"
   ]
  },
  {
   "cell_type": "markdown",
   "metadata": {},
   "source": [
    "# 筛选操作"
   ]
  },
  {
   "cell_type": "code",
   "execution_count": 8,
   "metadata": {},
   "outputs": [
    {
     "name": "stdout",
     "output_type": "stream",
     "text": [
      "set(['c', 'b', 'd'])\n",
      "set(['a'])\n"
     ]
    }
   ],
   "source": [
    "# 我们还能进行一些筛选操作, 比如对比另一个东西, 看看原来的 set 里有没有和他不同的 (difference). \n",
    "# 或者对比另一个东西, 看看 set 里有没有相同的 (intersection)\n",
    "unique_char = set(char_list)\n",
    "print(unique_char.difference({'a', 'e', 'i'}))\n",
    "\n",
    "print(unique_char.intersection({'a', 'e', 'i'}))"
   ]
  },
  {
   "cell_type": "code",
   "execution_count": null,
   "metadata": {
    "collapsed": true
   },
   "outputs": [],
   "source": []
  }
 ],
 "metadata": {
  "kernelspec": {
   "display_name": "Python 2",
   "language": "python",
   "name": "python2"
  },
  "language_info": {
   "codemirror_mode": {
    "name": "ipython",
    "version": 3
   },
   "file_extension": ".py",
   "mimetype": "text/x-python",
   "name": "python",
   "nbconvert_exporter": "python",
   "pygments_lexer": "ipython3",
   "version": "3.6.7"
  }
 },
 "nbformat": 4,
 "nbformat_minor": 2
}
