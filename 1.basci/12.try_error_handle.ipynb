{
 "cells": [
  {
   "cell_type": "markdown",
   "metadata": {},
   "source": [
    "# try 错误处理"
   ]
  },
  {
   "cell_type": "code",
   "execution_count": 1,
   "metadata": {},
   "outputs": [
    {
     "name": "stdout",
     "output_type": "stream",
     "text": [
      "[Errno 2] No such file or directory: 'eeee.txt'\n"
     ]
    }
   ],
   "source": [
    "try:\n",
    "    file = open('eeee.txt', 'r') # 会报错的代码\n",
    "except Exception as e: # 将报错存储在 e 中\n",
    "    print(e)"
   ]
  },
  {
   "cell_type": "code",
   "execution_count": 5,
   "metadata": {},
   "outputs": [],
   "source": [
    "# 首先报错：没有这样的文件No such file or directory. 然后决定是否输入y, \n",
    "# 输入y以后，系统就会新建一个文件（要用写入的类型），再次运行后，文件中就会写入ssss\n",
    "try:\n",
    "    file = open('eeee.txt', 'r+')\n",
    "except Exception as e:\n",
    "    print(e)\n",
    "    response = input('do you want to create a new file')\n",
    "    if response == 'y':\n",
    "        file = open('eeee.txt', 'w')\n",
    "    else:\n",
    "        pass\n",
    "else:\n",
    "    file.write('ssss')\n",
    "    file.close()"
   ]
  },
  {
   "cell_type": "code",
   "execution_count": null,
   "metadata": {
    "collapsed": true
   },
   "outputs": [],
   "source": []
  }
 ],
 "metadata": {
  "kernelspec": {
   "display_name": "Python 2",
   "language": "python",
   "name": "python2"
  },
  "language_info": {
   "codemirror_mode": {
    "name": "ipython",
    "version": 3
   },
   "file_extension": ".py",
   "mimetype": "text/x-python",
   "name": "python",
   "nbconvert_exporter": "python",
   "pygments_lexer": "ipython3",
   "version": "3.6.7"
  }
 },
 "nbformat": 4,
 "nbformat_minor": 2
}
