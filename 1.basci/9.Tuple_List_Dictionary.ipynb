{
 "cells": [
  {
   "cell_type": "markdown",
   "metadata": {},
   "source": [
    "# 元组/列表和字典"
   ]
  },
  {
   "cell_type": "code",
   "execution_count": 1,
   "metadata": {
    "collapsed": true
   },
   "outputs": [],
   "source": [
    "# tuple，用小括号、或者无括号来表述，是一连串有顺序的数字\n",
    "a_tuple = (12, 3, 5, 15, 6)\n",
    "another_tuple = 12, 3, 5, 15, 6"
   ]
  },
  {
   "cell_type": "code",
   "execution_count": 2,
   "metadata": {
    "collapsed": true
   },
   "outputs": [],
   "source": [
    "# 而list是以中括号来命名的\n",
    "a_list = [12, 3, 67, 7,82]"
   ]
  },
  {
   "cell_type": "code",
   "execution_count": 3,
   "metadata": {},
   "outputs": [
    {
     "name": "stdout",
     "output_type": "stream",
     "text": [
      "12\n",
      "3\n",
      "67\n",
      "7\n",
      "82\n"
     ]
    }
   ],
   "source": [
    "# 两者对比，他们的元素可以一个一个地被迭代、输出、运用、定位取值\n",
    "for content in a_list:\n",
    "    print(content)"
   ]
  },
  {
   "cell_type": "code",
   "execution_count": 4,
   "metadata": {},
   "outputs": [
    {
     "name": "stdout",
     "output_type": "stream",
     "text": [
      "12\n",
      "3\n",
      "5\n",
      "15\n",
      "6\n"
     ]
    }
   ],
   "source": [
    "for content_tuple in a_tuple:\n",
    "    print(content_tuple)"
   ]
  },
  {
   "cell_type": "code",
   "execution_count": 5,
   "metadata": {},
   "outputs": [
    {
     "name": "stdout",
     "output_type": "stream",
     "text": [
      "('index =', 0, ', number in list =', 12)\n",
      "('index =', 1, ', number in list =', 3)\n",
      "('index =', 2, ', number in list =', 67)\n",
      "('index =', 3, ', number in list =', 7)\n",
      "('index =', 4, ', number in list =', 82)\n",
      "('index =', 0, ', number in tuple =', 12)\n",
      "('index =', 1, ', number in tuple =', 3)\n",
      "('index =', 2, ', number in tuple =', 5)\n",
      "('index =', 3, ', number in tuple =', 15)\n",
      "('index =', 4, ', number in tuple =', 6)\n"
     ]
    }
   ],
   "source": [
    "# 依次输出a_tuple和a_list中的各个元素\n",
    "for index in range(len(a_list)):\n",
    "    print(\"index =\", index, \", number in list =\", a_list[index])\n",
    "\n",
    "for index in range(len(a_tuple)):\n",
    "    print(\"index =\", index, \", number in tuple =\", a_tuple[index])"
   ]
  },
  {
   "cell_type": "markdown",
   "metadata": {},
   "source": [
    "# List 列表"
   ]
  },
  {
   "cell_type": "markdown",
   "metadata": {},
   "source": [
    "# list 添加"
   ]
  },
  {
   "cell_type": "code",
   "execution_count": 6,
   "metadata": {},
   "outputs": [
    {
     "name": "stdout",
     "output_type": "stream",
     "text": [
      "[1, 2, 3, 4, 1, 1, -1, 0]\n"
     ]
    }
   ],
   "source": [
    "a = [1, 2, 3,4, 1, 1, -1]\n",
    "a.append(0)  # 在a的最后面追加一个0\n",
    "print(a)"
   ]
  },
  {
   "cell_type": "code",
   "execution_count": 7,
   "metadata": {},
   "outputs": [
    {
     "name": "stdout",
     "output_type": "stream",
     "text": [
      "[1, 0, 2, 3, 4, 1, 1, -1]\n"
     ]
    }
   ],
   "source": [
    "# list 在指定的位置添加\n",
    "a = [1, 2, 3,4, 1, 1, -1]\n",
    "a.insert(1, 0)\n",
    "print(a)"
   ]
  },
  {
   "cell_type": "markdown",
   "metadata": {},
   "source": [
    "# list 移除"
   ]
  },
  {
   "cell_type": "code",
   "execution_count": 8,
   "metadata": {},
   "outputs": [
    {
     "name": "stdout",
     "output_type": "stream",
     "text": [
      "[1, 3, 4, 1, 1, -1]\n"
     ]
    }
   ],
   "source": [
    "a = [1, 2, 3, 4, 1, 1, -1]\n",
    "a.remove(2)  # 删除列表中第一个出现的值为2的项\n",
    "print(a)"
   ]
  },
  {
   "cell_type": "markdown",
   "metadata": {},
   "source": [
    "# List 索引"
   ]
  },
  {
   "cell_type": "code",
   "execution_count": 9,
   "metadata": {},
   "outputs": [
    {
     "name": "stdout",
     "output_type": "stream",
     "text": [
      "1\n",
      "-1\n",
      "[1, 2, 3]\n",
      "[1, -1]\n",
      "[1, 1, -1]\n"
     ]
    }
   ],
   "source": [
    "a = [1, 2, 3, 4, 1, 1, -1]\n",
    "print(a[0])  # 显示列表a的第0位的值\n",
    "\n",
    "print(a[-1]) # 显示列表a的最末位的值\n",
    "\n",
    "print(a[0:3]) # 显示列表a的从第0位 到 第2位(第3位之前) 的所有项的值\n",
    "\n",
    "print(a[5:]) # 显示列表a的第5位及以后的所有项的值\n",
    "\n",
    "print(a[-3:]) # 显示列表a的倒数第3位及以后的所有项的值"
   ]
  },
  {
   "cell_type": "code",
   "execution_count": 10,
   "metadata": {},
   "outputs": [
    {
     "name": "stdout",
     "output_type": "stream",
     "text": [
      "1\n"
     ]
    }
   ],
   "source": [
    "# 打印列表中的某个值的索引(index)\n",
    "a = [1, 2, 3, 4, 1, 1, -1]\n",
    "print(a.index(2)) # 显示列表a中第一次出现的值为2的项的索引"
   ]
  },
  {
   "cell_type": "code",
   "execution_count": 11,
   "metadata": {},
   "outputs": [
    {
     "name": "stdout",
     "output_type": "stream",
     "text": [
      "1\n"
     ]
    }
   ],
   "source": [
    "# 统计列表中某值出现的次数\n",
    "a = [1, 2, 3, 4, 1, 1, -1]\n",
    "print(a.count(-1))"
   ]
  },
  {
   "cell_type": "markdown",
   "metadata": {},
   "source": [
    "# List 排序"
   ]
  },
  {
   "cell_type": "code",
   "execution_count": 12,
   "metadata": {},
   "outputs": [
    {
     "name": "stdout",
     "output_type": "stream",
     "text": [
      "[-1, 1, 1, 1, 2, 3, 4]\n",
      "[4, 3, 2, 1, 1, 1, -1]\n"
     ]
    }
   ],
   "source": [
    "a = [1, 2, 3, 4, 1, 1, -1]\n",
    "a.sort()  # 默认从小到大排序\n",
    "print(a)\n",
    "\n",
    "a.sort(reverse=True) # 从大到小排序\n",
    "print(a)"
   ]
  },
  {
   "cell_type": "markdown",
   "metadata": {},
   "source": [
    "# 创建二维列表"
   ]
  },
  {
   "cell_type": "code",
   "execution_count": 13,
   "metadata": {
    "collapsed": true
   },
   "outputs": [],
   "source": [
    "a = [1, 2, 3, 4, 5] # 一行五列\n",
    "multi_dim_a = [[1, 2, 3],\n",
    "               [2, 3, 4],\n",
    "               [3, 4, 5]] # 三行三列"
   ]
  },
  {
   "cell_type": "code",
   "execution_count": 14,
   "metadata": {},
   "outputs": [
    {
     "name": "stdout",
     "output_type": "stream",
     "text": [
      "2\n",
      "2\n"
     ]
    }
   ],
   "source": [
    "print(a[1])\n",
    "print(multi_dim_a[0][1])"
   ]
  },
  {
   "cell_type": "markdown",
   "metadata": {},
   "source": [
    "# dictionary 字典"
   ]
  },
  {
   "cell_type": "code",
   "execution_count": 15,
   "metadata": {},
   "outputs": [
    {
     "name": "stdout",
     "output_type": "stream",
     "text": [
      "1\n",
      "1\n"
     ]
    }
   ],
   "source": [
    "# 在字典中，有key和 value两种元素，每一个key对应一个value, key是名字, value是内容\n",
    "a_list = [1, 2, 3, 4, 5, 6, 7, 8]\n",
    "d1 = {'apple':1, 'pear':2, 'orange':3}\n",
    "d2 = {1:'a', 2:'b',3:'c'}\n",
    "d3 = {1:'a', 'b':2, 'c':3}\n",
    "\n",
    "print(d1['apple'])\n",
    "print(a_list[0])"
   ]
  },
  {
   "cell_type": "code",
   "execution_count": 16,
   "metadata": {},
   "outputs": [
    {
     "name": "stdout",
     "output_type": "stream",
     "text": [
      "{'orange': 3, 'apple': 1}\n"
     ]
    }
   ],
   "source": [
    "del d1['pear']\n",
    "print(d1)"
   ]
  },
  {
   "cell_type": "code",
   "execution_count": 17,
   "metadata": {},
   "outputs": [
    {
     "name": "stdout",
     "output_type": "stream",
     "text": [
      "{'orange': 3, 'b': 20, 'apple': 1}\n"
     ]
    }
   ],
   "source": [
    "d1['b'] = 20\n",
    "print(d1)"
   ]
  },
  {
   "cell_type": "markdown",
   "metadata": {},
   "source": [
    "# 字典存储类型"
   ]
  },
  {
   "cell_type": "code",
   "execution_count": 18,
   "metadata": {},
   "outputs": [
    {
     "name": "stdout",
     "output_type": "stream",
     "text": [
      "a\n"
     ]
    }
   ],
   "source": [
    "# 可以发现各个元素并没有按规律打印出来，进一步验证了字典是一个无序的容器\n",
    "def func():\n",
    "    return 0\n",
    "\n",
    "d4 = {'apple':[1,2,3],'pear':{1:3, 3:'a'}, 'orange': func}\n",
    "print(d4['pear'][3])"
   ]
  },
  {
   "cell_type": "code",
   "execution_count": null,
   "metadata": {
    "collapsed": true
   },
   "outputs": [],
   "source": []
  }
 ],
 "metadata": {
  "kernelspec": {
   "display_name": "Python 2",
   "language": "python",
   "name": "python2"
  },
  "language_info": {
   "codemirror_mode": {
    "name": "ipython",
    "version": 3
   },
   "file_extension": ".py",
   "mimetype": "text/x-python",
   "name": "python",
   "nbconvert_exporter": "python",
   "pygments_lexer": "ipython3",
   "version": "3.6.7"
  }
 },
 "nbformat": 4,
 "nbformat_minor": 2
}
