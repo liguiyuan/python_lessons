{
 "cells": [
  {
   "cell_type": "markdown",
   "metadata": {},
   "source": [
    "# Python函数修饰符@\n",
    "与其说是修饰函数倒不如说是引用、调用它修饰的函数\n",
    "出现在函数定义的前一行，不允许和函数定义在同一行"
   ]
  },
  {
   "cell_type": "code",
   "execution_count": 1,
   "metadata": {},
   "outputs": [
    {
     "name": "stdout",
     "output_type": "stream",
     "text": [
      "a\n"
     ]
    }
   ],
   "source": [
    "def a(fn):\n",
    "    print(\"a\")\n",
    "    def d(st):\n",
    "        print(\"------------------\")\n",
    "        print(st, 'd')\n",
    "    return d\n",
    "\n",
    "def b(fn):\n",
    "    print(\"b\")\n",
    "    return fn\n",
    "\n",
    "@a\n",
    "def c(st):\n",
    "    print(\"*******************\")\n",
    "    print(st)"
   ]
  },
  {
   "cell_type": "markdown",
   "metadata": {},
   "source": [
    "可以看出，运行到修饰符a时，它首先就运行了一遍，并且是不运行下面的函数的"
   ]
  },
  {
   "cell_type": "code",
   "execution_count": 2,
   "metadata": {},
   "outputs": [
    {
     "name": "stdout",
     "output_type": "stream",
     "text": [
      "------------------\n",
      "c d\n"
     ]
    }
   ],
   "source": [
    "c(\"c\")"
   ]
  },
  {
   "cell_type": "markdown",
   "metadata": {},
   "source": [
    "当调用函数c的时候，依然不运行函数c的内容，而是逐层向上运行，也不算运行，只执行了那些返回值是函数的部分。不是函数的也被忽略了"
   ]
  },
  {
   "cell_type": "code",
   "execution_count": null,
   "metadata": {},
   "outputs": [],
   "source": []
  }
 ],
 "metadata": {
  "kernelspec": {
   "display_name": "Python 3",
   "language": "python",
   "name": "python3"
  },
  "language_info": {
   "codemirror_mode": {
    "name": "ipython",
    "version": 3
   },
   "file_extension": ".py",
   "mimetype": "text/x-python",
   "name": "python",
   "nbconvert_exporter": "python",
   "pygments_lexer": "ipython3",
   "version": "3.6.7"
  }
 },
 "nbformat": 4,
 "nbformat_minor": 2
}
