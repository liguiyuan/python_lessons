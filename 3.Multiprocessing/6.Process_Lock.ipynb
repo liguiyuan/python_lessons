{
 "cells": [
  {
   "cell_type": "markdown",
   "metadata": {},
   "source": [
    "# 进程锁 Lock"
   ]
  },
  {
   "cell_type": "code",
   "execution_count": 1,
   "metadata": {},
   "outputs": [
    {
     "name": "stdout",
     "output_type": "stream",
     "text": [
      "1\n",
      "4\n",
      "5\n",
      "8\n",
      "9\n",
      "12\n",
      "13\n",
      "16\n",
      "17\n",
      "20\n"
     ]
    }
   ],
   "source": [
    "# 不加进程锁\n",
    "import multiprocessing as mp\n",
    "import time\n",
    "\n",
    "def job(v, num):\n",
    "    for _ in range(5):\n",
    "        time.sleep(0.1) # 暂停0.1秒，让输出效果更明显\n",
    "        v.value += num  # v.value获取共享变量值\n",
    "        print(v.value)\n",
    "        \n",
    "def multicore():\n",
    "    v = mp.Value('i', 0) # 定义共享变量\n",
    "    p1 = mp.Process(target=job, args=(v, 1))\n",
    "    p2 = mp.Process(target=job, args=(v, 3)) # 设定不同的number看如何抢夺内存\n",
    "    p1.start()\n",
    "    p2.start()\n",
    "    p1.join()\n",
    "    p2.join()\n",
    "\n",
    "# 进程1和进程2在相互抢着使用共享内存v    \n",
    "if __name__=='__main__':\n",
    "    multicore()"
   ]
  },
  {
   "cell_type": "code",
   "execution_count": 2,
   "metadata": {},
   "outputs": [
    {
     "name": "stdout",
     "output_type": "stream",
     "text": [
      "1\n",
      "2\n",
      "3\n",
      "4\n",
      "5\n",
      "8\n",
      "11\n",
      "14\n",
      "17\n",
      "20\n"
     ]
    }
   ],
   "source": [
    "# 加进程锁\n",
    "def job(v, num, l):\n",
    "    l.acquire() # 锁住\n",
    "    for _ in range(5):\n",
    "        time.sleep(0.1)\n",
    "        v.value += num # v.value获取共享内存\n",
    "        print(v.value)\n",
    "    l.release() # 释放\n",
    "    \n",
    "def multicore():\n",
    "    l = mp.Lock() # 定义一个进程锁\n",
    "    v = mp.Value('i', 0) # 定义共享内存\n",
    "    p1 = mp.Process(target=job, args=(v, 1, l))\n",
    "    p2 = mp.Process(target=job, args=(v, 3, l)) # 设定不同的number看如何抢夺内存\n",
    "    p1.start()\n",
    "    p2.start()\n",
    "    p1.join()\n",
    "    p2.join()\n",
    "    \n",
    "if __name__=='__main__':\n",
    "    multicore()"
   ]
  },
  {
   "cell_type": "code",
   "execution_count": null,
   "metadata": {
    "collapsed": true
   },
   "outputs": [],
   "source": []
  }
 ],
 "metadata": {
  "kernelspec": {
   "display_name": "Python 2",
   "language": "python",
   "name": "python2"
  },
  "language_info": {
   "codemirror_mode": {
    "name": "ipython",
    "version": 2
   },
   "file_extension": ".py",
   "mimetype": "text/x-python",
   "name": "python",
   "nbconvert_exporter": "python",
   "pygments_lexer": "ipython2",
   "version": "2.7.12"
  }
 },
 "nbformat": 4,
 "nbformat_minor": 2
}
