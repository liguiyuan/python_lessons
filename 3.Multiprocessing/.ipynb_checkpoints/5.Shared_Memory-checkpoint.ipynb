{
 "cells": [
  {
   "cell_type": "markdown",
   "metadata": {},
   "source": [
    "# 共享内存 shared memory"
   ]
  },
  {
   "cell_type": "markdown",
   "metadata": {},
   "source": [
    "# Shared Value"
   ]
  },
  {
   "cell_type": "code",
   "execution_count": 1,
   "metadata": {
    "collapsed": true
   },
   "outputs": [],
   "source": [
    "# 通过使用Value数据存储在一个共享的内存表中\n",
    "import multiprocessing as mp\n",
    "\n",
    "# 其中d和i参数用来设置数据类型的，d表示一个双精浮点类型，i表示一个带符号的整型\n",
    "value1 = mp.Value('i', 0)\n",
    "value2 = mp.Value('d', 3.14)"
   ]
  },
  {
   "cell_type": "markdown",
   "metadata": {},
   "source": [
    "# Shared Array"
   ]
  },
  {
   "cell_type": "code",
   "execution_count": 2,
   "metadata": {
    "collapsed": true
   },
   "outputs": [],
   "source": [
    "array = mp.Array('i', [1, 2, 3, 4])\n",
    "# array = mp.Array('i', [[1, 2], [3, 4]]) # 2维list"
   ]
  },
  {
   "cell_type": "code",
   "execution_count": 3,
   "metadata": {},
   "outputs": [
    {
     "ename": "SyntaxError",
     "evalue": "invalid syntax (<ipython-input-3-70950114576d>, line 2)",
     "output_type": "error",
     "traceback": [
      "\u001b[0;36m  File \u001b[0;32m\"<ipython-input-3-70950114576d>\"\u001b[0;36m, line \u001b[0;32m2\u001b[0m\n\u001b[0;31m    | Type code | C Type             | Python Type       | Minimum size in bytes |\u001b[0m\n\u001b[0m    ^\u001b[0m\n\u001b[0;31mSyntaxError\u001b[0m\u001b[0;31m:\u001b[0m invalid syntax\n"
     ]
    }
   ],
   "source": [
    "# 各参数代表的数据类型\n",
    "'''\n",
    "| Type code | C Type             | Python Type       | Minimum size in bytes |\n",
    "| --------- | ------------------ | ----------------- | --------------------- |\n",
    "| `'b'`     | signed char        | int               | 1                     |\n",
    "| `'B'`     | unsigned char      | int               | 1                     |\n",
    "| `'u'`     | Py_UNICODE         | Unicode character | 2                     |\n",
    "| `'h'`     | signed short       | int               | 2                     |\n",
    "| `'H'`     | unsigned short     | int               | 2                     |\n",
    "| `'i'`     | signed int         | int               | 2                     |\n",
    "| `'I'`     | unsigned int       | int               | 2                     |\n",
    "| `'l'`     | signed long        | int               | 4                     |\n",
    "| `'L'`     | unsigned long      | int               | 4                     |\n",
    "| `'q'`     | signed long long   | int               | 8                     |\n",
    "| `'Q'`     | unsigned long long | int               | 8                     |\n",
    "| `'f'`     | float              | float             | 4                     |\n",
    "| `'d'`     | double             | float             | 8                     |\n",
    "'''"
   ]
  },
  {
   "cell_type": "code",
   "execution_count": null,
   "metadata": {
    "collapsed": true
   },
   "outputs": [],
   "source": []
  }
 ],
 "metadata": {
  "kernelspec": {
   "display_name": "Python 2",
   "language": "python",
   "name": "python2"
  },
  "language_info": {
   "codemirror_mode": {
    "name": "ipython",
    "version": 2
   },
   "file_extension": ".py",
   "mimetype": "text/x-python",
   "name": "python",
   "nbconvert_exporter": "python",
   "pygments_lexer": "ipython2",
   "version": "2.7.12"
  }
 },
 "nbformat": 4,
 "nbformat_minor": 2
}
