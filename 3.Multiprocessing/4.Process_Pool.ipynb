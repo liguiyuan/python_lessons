{
 "cells": [
  {
   "cell_type": "markdown",
   "metadata": {
    "collapsed": true
   },
   "source": [
    "# 进程池 Pool"
   ]
  },
  {
   "cell_type": "code",
   "execution_count": 1,
   "metadata": {
    "collapsed": true
   },
   "outputs": [],
   "source": [
    "# 进程池 Pool() 和 map()\n",
    "# 进程池就是我们将所要运行的东西，放到池子里，Python会自行解决多进程的问题\n",
    "import multiprocessing as mp\n",
    "\n",
    "def job(x):\n",
    "    return x*x"
   ]
  },
  {
   "cell_type": "code",
   "execution_count": 2,
   "metadata": {},
   "outputs": [
    {
     "name": "stdout",
     "output_type": "stream",
     "text": [
      "[0, 1, 4, 9, 16, 25, 36, 49, 64, 81]\n"
     ]
    }
   ],
   "source": [
    "# Pool和之前的Process的不同点是丢向Pool的函数有返回值，而Process的没有返回值\n",
    "# 接下来用map()获取结果，在map()中需要放入函数和需要迭代运算的值，\n",
    "# 然后它会自动分配给CPU核，返回结果\n",
    "pool = mp.Pool()\n",
    "res = pool.map(job, range(10))\n",
    "\n",
    "def multicore():\n",
    "    pool = mp.Pool()\n",
    "    res = pool.map(job, range(10))\n",
    "    print(res)\n",
    "    \n",
    "if __name__=='__main__':\n",
    "    multicore()"
   ]
  },
  {
   "cell_type": "markdown",
   "metadata": {},
   "source": [
    "# 自定义核数量"
   ]
  },
  {
   "cell_type": "code",
   "execution_count": 3,
   "metadata": {
    "collapsed": true
   },
   "outputs": [],
   "source": [
    "# Pool默认大小是CPU的核数，我们也可以通过在Pool中传入processes参数即可自定义需要的核数量\n",
    "def multicore():\n",
    "    pool = mp.Pool(processes=3) # 定义CPU核数量\n",
    "    res = pool.map(job, range(10))\n",
    "    print(res)"
   ]
  },
  {
   "cell_type": "code",
   "execution_count": 4,
   "metadata": {},
   "outputs": [
    {
     "name": "stdout",
     "output_type": "stream",
     "text": [
      "[0, 1, 4, 9, 16, 25, 36, 49, 64, 81]\n"
     ]
    }
   ],
   "source": [
    "multicore()"
   ]
  },
  {
   "cell_type": "markdown",
   "metadata": {},
   "source": [
    "# apply_async()"
   ]
  },
  {
   "cell_type": "code",
   "execution_count": 5,
   "metadata": {
    "collapsed": true
   },
   "outputs": [],
   "source": [
    "# Pool除了map()外，还有可以返回结果的方式，那就是apply_async()\n",
    "# apply_async()中只能传递一个值，它只会放入一个核进行运算，\n",
    "# 但是传入值时要注意是可迭代的，所以在传入值后需要加逗号, 同时需要用get()方法获取返回值\n",
    "def multicore():\n",
    "    pool = mp.Pool()\n",
    "    res = pool.map(job, range(10))\n",
    "    print(res)\n",
    "    res = pool.apply_async(job, (2,))\n",
    "    print(res.get()) # 用get获得结果"
   ]
  },
  {
   "cell_type": "code",
   "execution_count": 6,
   "metadata": {},
   "outputs": [
    {
     "name": "stdout",
     "output_type": "stream",
     "text": [
      "[0, 1, 4, 9, 16, 25, 36, 49, 64, 81]\n",
      "4\n"
     ]
    }
   ],
   "source": [
    "multicore()"
   ]
  },
  {
   "cell_type": "markdown",
   "metadata": {},
   "source": [
    "# 用 apply_async() 输出多个结果"
   ]
  },
  {
   "cell_type": "code",
   "execution_count": 7,
   "metadata": {},
   "outputs": [
    {
     "name": "stdout",
     "output_type": "stream",
     "text": [
      "[0, 1, 4, 9, 16, 25, 36, 49, 64, 81]\n"
     ]
    }
   ],
   "source": [
    "# apply_async()只能输入一组参数\n",
    "# 迭代器，i=0时apply一次，i=1时apply一次等等\n",
    "multi_res = [pool.apply_async(job, (i,)) for i in range(10)]\n",
    "print([res.get() for res in multi_res]) # 同样在取出值时需要一个一个取出来"
   ]
  },
  {
   "cell_type": "code",
   "execution_count": null,
   "metadata": {
    "collapsed": true
   },
   "outputs": [],
   "source": []
  }
 ],
 "metadata": {
  "kernelspec": {
   "display_name": "Python 2",
   "language": "python",
   "name": "python2"
  },
  "language_info": {
   "codemirror_mode": {
    "name": "ipython",
    "version": 3
   },
   "file_extension": ".py",
   "mimetype": "text/x-python",
   "name": "python",
   "nbconvert_exporter": "python",
   "pygments_lexer": "ipython3",
   "version": "3.6.7"
  }
 },
 "nbformat": 4,
 "nbformat_minor": 2
}
