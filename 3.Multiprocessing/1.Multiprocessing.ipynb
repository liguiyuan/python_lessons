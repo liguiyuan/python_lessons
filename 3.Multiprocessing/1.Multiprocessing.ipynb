{
 "cells": [
  {
   "cell_type": "markdown",
   "metadata": {},
   "source": [
    "# 添加进程 Process"
   ]
  },
  {
   "cell_type": "code",
   "execution_count": 1,
   "metadata": {
    "collapsed": true
   },
   "outputs": [],
   "source": [
    "# 导入线程进程标准模块\n",
    "import multiprocessing as mp\n",
    "import threading as td"
   ]
  },
  {
   "cell_type": "code",
   "execution_count": 3,
   "metadata": {},
   "outputs": [
    {
     "name": "stdout",
     "output_type": "stream",
     "text": [
      "aaaaa\n",
      "aaaaa\n",
      "aaaaa\n"
     ]
    }
   ],
   "source": [
    "def job(a, d):\n",
    "    print('aaaaa')\n",
    "\n",
    "# 创建线程和进程\n",
    "t1 = td.Thread(target=job, args=(1, 2))\n",
    "p1 = mp.Process(target=job, args=(1, 2))\n",
    "t1.start() # 启动线程和进程\n",
    "p1.start()\n",
    "\n",
    "t1.join()  # 分别连接线程和进程\n",
    "p1.join()"
   ]
  },
  {
   "cell_type": "markdown",
   "metadata": {},
   "source": [
    "# 运用"
   ]
  },
  {
   "cell_type": "code",
   "execution_count": 4,
   "metadata": {},
   "outputs": [
    {
     "name": "stdout",
     "output_type": "stream",
     "text": [
      "aaaaa\n"
     ]
    }
   ],
   "source": [
    "import multiprocessing as mp\n",
    "\n",
    "def job(a, d):\n",
    "    print('aaaaa')\n",
    "    \n",
    "if __name__=='__main__':\n",
    "    p1 = mp.Process(target=job, args=(1, 2))\n",
    "    p1.start()\n",
    "    p1.join()"
   ]
  },
  {
   "cell_type": "code",
   "execution_count": null,
   "metadata": {
    "collapsed": true
   },
   "outputs": [],
   "source": []
  }
 ],
 "metadata": {
  "kernelspec": {
   "display_name": "Python 2",
   "language": "python",
   "name": "python2"
  },
  "language_info": {
   "codemirror_mode": {
    "name": "ipython",
    "version": 2
   },
   "file_extension": ".py",
   "mimetype": "text/x-python",
   "name": "python",
   "nbconvert_exporter": "python",
   "pygments_lexer": "ipython2",
   "version": "2.7.12"
  }
 },
 "nbformat": 4,
 "nbformat_minor": 2
}
