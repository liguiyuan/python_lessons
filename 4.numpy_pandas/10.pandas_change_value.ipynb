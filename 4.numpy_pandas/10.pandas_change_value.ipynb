{
 "cells": [
  {
   "cell_type": "markdown",
   "metadata": {},
   "source": [
    "# pandas 修改值"
   ]
  },
  {
   "cell_type": "code",
   "execution_count": 1,
   "metadata": {},
   "outputs": [],
   "source": [
    "import pandas as pd\n",
    "import numpy as np"
   ]
  },
  {
   "cell_type": "code",
   "execution_count": 2,
   "metadata": {},
   "outputs": [
    {
     "name": "stdout",
     "output_type": "stream",
     "text": [
      "             A   B   C   D\n",
      "2013-01-01   0   1   2   3\n",
      "2013-01-02   4   5   6   7\n",
      "2013-01-03   8   9  10  11\n",
      "2013-01-04  12  13  14  15\n",
      "2013-01-05  16  17  18  19\n",
      "2013-01-06  20  21  22  23\n"
     ]
    }
   ],
   "source": [
    "dates = pd.date_range('20130101', periods=6)\n",
    "df = pd.DataFrame(np.arange(24).reshape((6, 4)), index=dates, columns=['A', 'B', 'C', 'D'])\n",
    "print(df)"
   ]
  },
  {
   "cell_type": "code",
   "execution_count": 3,
   "metadata": {},
   "outputs": [
    {
     "name": "stdout",
     "output_type": "stream",
     "text": [
      "             A   B     C   D\n",
      "2013-01-01   0   1     2   3\n",
      "2013-01-02   4   5     6   7\n",
      "2013-01-03   8   9  1111  11\n",
      "2013-01-04  12  13    14  15\n",
      "2013-01-05  16  17    18  19\n",
      "2013-01-06  20  21    22  23\n"
     ]
    }
   ],
   "source": [
    "# 修改[2, 2]的值\n",
    "df.iloc[2, 2] = 1111\n",
    "print(df)"
   ]
  },
  {
   "cell_type": "code",
   "execution_count": 4,
   "metadata": {},
   "outputs": [
    {
     "name": "stdout",
     "output_type": "stream",
     "text": [
      "             A     B     C   D\n",
      "2013-01-01   0  2222     2   3\n",
      "2013-01-02   4     5     6   7\n",
      "2013-01-03   8     9  1111  11\n",
      "2013-01-04  12    13    14  15\n",
      "2013-01-05  16    17    18  19\n",
      "2013-01-06  20    21    22  23\n"
     ]
    }
   ],
   "source": [
    "df.loc['20130101', 'B'] = 2222\n",
    "print(df)"
   ]
  },
  {
   "cell_type": "code",
   "execution_count": 5,
   "metadata": {},
   "outputs": [
    {
     "name": "stdout",
     "output_type": "stream",
     "text": [
      "            A     B     C   D\n",
      "2013-01-01  0  2222     2   3\n",
      "2013-01-02  4     5     6   7\n",
      "2013-01-03  1     9  1111  11\n",
      "2013-01-04  1    13    14  15\n",
      "2013-01-05  1    17    18  19\n",
      "2013-01-06  1    21    22  23\n"
     ]
    }
   ],
   "source": [
    "#df[df.A > 4] = 0\n",
    "df.A[df.A > 4] = 1\n",
    "print(df)"
   ]
  },
  {
   "cell_type": "code",
   "execution_count": 6,
   "metadata": {},
   "outputs": [
    {
     "name": "stdout",
     "output_type": "stream",
     "text": [
      "            A     B     C   D   F\n",
      "2013-01-01  0  2222     2   3 NaN\n",
      "2013-01-02  4     5     6   7 NaN\n",
      "2013-01-03  1     9  1111  11 NaN\n",
      "2013-01-04  1    13    14  15 NaN\n",
      "2013-01-05  1    17    18  19 NaN\n",
      "2013-01-06  1    21    22  23 NaN\n"
     ]
    }
   ],
   "source": [
    "df['F'] = np.nan\n",
    "print(df)"
   ]
  },
  {
   "cell_type": "code",
   "execution_count": 7,
   "metadata": {},
   "outputs": [
    {
     "name": "stdout",
     "output_type": "stream",
     "text": [
      "            A     B     C   D  F\n",
      "2013-01-01  0  2222     2   3  1\n",
      "2013-01-02  4     5     6   7  2\n",
      "2013-01-03  1     9  1111  11  3\n",
      "2013-01-04  1    13    14  15  4\n",
      "2013-01-05  1    17    18  19  5\n",
      "2013-01-06  1    21    22  23  6\n"
     ]
    }
   ],
   "source": [
    "df['F'] = pd.Series([1, 2, 3, 4, 5, 6], index=pd.date_range('20130101', periods=6))\n",
    "print(df)"
   ]
  },
  {
   "cell_type": "code",
   "execution_count": null,
   "metadata": {},
   "outputs": [],
   "source": []
  }
 ],
 "metadata": {
  "kernelspec": {
   "display_name": "Python 3",
   "language": "python",
   "name": "python3"
  },
  "language_info": {
   "codemirror_mode": {
    "name": "ipython",
    "version": 3
   },
   "file_extension": ".py",
   "mimetype": "text/x-python",
   "name": "python",
   "nbconvert_exporter": "python",
   "pygments_lexer": "ipython3",
   "version": "3.6.7"
  }
 },
 "nbformat": 4,
 "nbformat_minor": 2
}
