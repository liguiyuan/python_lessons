{
 "cells": [
  {
   "cell_type": "markdown",
   "metadata": {},
   "source": [
    "# Numpy的array合并"
   ]
  },
  {
   "cell_type": "code",
   "execution_count": 1,
   "metadata": {},
   "outputs": [],
   "source": [
    "import numpy as np\n",
    "A = np.array([1, 1, 1])\n",
    "B = np.array([2, 2, 2])"
   ]
  },
  {
   "cell_type": "code",
   "execution_count": 2,
   "metadata": {},
   "outputs": [
    {
     "name": "stdout",
     "output_type": "stream",
     "text": [
      "[[1 1 1]\n",
      " [2 2 2]]\n",
      "(3,) (2, 3)\n"
     ]
    }
   ],
   "source": [
    "# 上下合并\n",
    "C = np.vstack((A, B)) #vertical stack\n",
    "print(C)\n",
    "print(A.shape, C.shape)"
   ]
  },
  {
   "cell_type": "code",
   "execution_count": 3,
   "metadata": {},
   "outputs": [
    {
     "name": "stdout",
     "output_type": "stream",
     "text": [
      "[1 1 1 2 2 2]\n",
      "(3,) (6,)\n"
     ]
    }
   ],
   "source": [
    "# 左右合并\n",
    "D = np.hstack((A, B)) # horizontal stack\n",
    "print(D)\n",
    "print(A.shape, D.shape)"
   ]
  },
  {
   "cell_type": "code",
   "execution_count": 4,
   "metadata": {},
   "outputs": [
    {
     "name": "stdout",
     "output_type": "stream",
     "text": [
      "[[1]\n",
      " [1]\n",
      " [1]]\n",
      "[[1 2]\n",
      " [1 2]\n",
      " [1 2]]\n",
      "(3, 1) (3, 2)\n"
     ]
    }
   ],
   "source": [
    "# 给数列A加了一个维度\n",
    "print(A[:, np.newaxis])\n",
    "A = np.array([1, 1, 1])[:, np.newaxis]\n",
    "B = np.array([2, 2, 2])[:, np.newaxis]\n",
    "D = np.hstack((A, B)) # horizontal stack 左右合并\n",
    "print(D)\n",
    "print(A.shape, D.shape)"
   ]
  },
  {
   "cell_type": "code",
   "execution_count": 5,
   "metadata": {},
   "outputs": [
    {
     "name": "stdout",
     "output_type": "stream",
     "text": [
      "[[1 2 2 1]\n",
      " [1 2 2 1]\n",
      " [1 2 2 1]]\n"
     ]
    }
   ],
   "source": [
    "# 多个array的合并\n",
    "C = np.concatenate((A, B, B, A), axis=1) # axis=0\n",
    "print(C)"
   ]
  }
 ],
 "metadata": {
  "kernelspec": {
   "display_name": "Python 3",
   "language": "python",
   "name": "python3"
  },
  "language_info": {
   "codemirror_mode": {
    "name": "ipython",
    "version": 3
   },
   "file_extension": ".py",
   "mimetype": "text/x-python",
   "name": "python",
   "nbconvert_exporter": "python",
   "pygments_lexer": "ipython3",
   "version": "3.6.7"
  }
 },
 "nbformat": 4,
 "nbformat_minor": 2
}
